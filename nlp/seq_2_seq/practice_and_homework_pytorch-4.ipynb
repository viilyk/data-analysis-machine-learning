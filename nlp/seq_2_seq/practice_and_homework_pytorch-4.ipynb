{
  "cells": [
    {
      "cell_type": "markdown",
      "metadata": {
        "id": "HmsFABwClrsS"
      },
      "source": [
        "## Seminar and homework (10 points total)\n",
        "\n",
        "Today we shall compose encoder-decoder neural networks and apply them to the task of machine translation.\n",
        "\n",
        "![img](https://esciencegroup.files.wordpress.com/2016/03/seq2seq.jpg)\n",
        "_(img: esciencegroup.files.wordpress.com)_\n",
        "\n",
        "\n",
        "Encoder-decoder architectures are about converting anything to anything, including\n",
        " * Machine translation and spoken dialogue systems\n",
        " * [Image captioning](http://mscoco.org/dataset/#captions-challenge2015) and [image2latex](https://openai.com/requests-for-research/#im2latex) (convolutional encoder, recurrent decoder)\n",
        " * Generating [images by captions](https://arxiv.org/abs/1511.02793) (recurrent encoder, convolutional decoder)\n",
        " * Grapheme2phoneme - convert words to transcripts"
      ]
    },
    {
      "cell_type": "markdown",
      "metadata": {
        "id": "R4N9AD2dlrsU"
      },
      "source": [
        "## Our task: machine translation\n",
        "\n",
        "We gonna try our encoder-decoder models on russian to english machine translation problem. More specifically, we'll translate hotel and hostel descriptions. This task shows the scale of machine translation while not requiring you to train your model for weeks if you don't use GPU.\n",
        "\n",
        "Before we get to the architecture, there's some preprocessing to be done. ~~Go tokenize~~ Alright, this time we've done preprocessing for you. As usual, the data will be tokenized with WordPunctTokenizer.\n",
        "\n",
        "However, there's one more thing to do. Our data lines contain unique rare words. If we operate on a word level, we will have to deal with large vocabulary size. If instead we use character-level models, it would take lots of iterations to process a sequence. This time we're gonna pick something inbetween.\n",
        "\n",
        "One popular approach is called [Byte Pair Encoding](https://github.com/rsennrich/subword-nmt) aka __BPE__. The algorithm starts with a character-level tokenization and then iteratively merges most frequent pairs for N iterations. This results in frequent words being merged into a single token and rare words split into syllables or even characters.\n",
        "\n"
      ]
    },
    {
      "cell_type": "code",
      "metadata": {
        "id": "CfvojjHQlrsU",
        "ExecuteTime": {
          "end_time": "2024-10-23T14:04:00.950364Z",
          "start_time": "2024-10-23T14:03:52.002344Z"
        },
        "outputId": "371215ba-597f-4e07-8080-8b1bad50285c",
        "colab": {
          "base_uri": "https://localhost:8080/"
        }
      },
      "source": [
        "!pip3 install torch>=1.3.0\n",
        "!pip3 install subword-nmt &> log\n",
        "!wget https://www.dropbox.com/s/yy2zqh34dyhv07i/data.txt?dl=1 -O data.txt\n",
        "!wget https://raw.githubusercontent.com/yandexdataschool/nlp_course/2020/week04_seq2seq/vocab.py -O vocab.py\n",
        "# thanks to tilda and deephack teams for the data, Dmitry Emelyanenko for the code :)"
      ],
      "outputs": [
        {
          "output_type": "stream",
          "name": "stdout",
          "text": [
            "--2024-10-24 18:10:31--  https://www.dropbox.com/s/yy2zqh34dyhv07i/data.txt?dl=1\n",
            "Resolving www.dropbox.com (www.dropbox.com)... 162.125.81.18, 2620:100:6030:18::a27d:5012\n",
            "Connecting to www.dropbox.com (www.dropbox.com)|162.125.81.18|:443... connected.\n",
            "HTTP request sent, awaiting response... 302 Found\n",
            "Location: https://www.dropbox.com/scl/fi/mw8tdyetqboqwkn5ma886/data.txt?rlkey=t9fmsizx27ikh0vak0ir265a6&dl=1 [following]\n",
            "--2024-10-24 18:10:31--  https://www.dropbox.com/scl/fi/mw8tdyetqboqwkn5ma886/data.txt?rlkey=t9fmsizx27ikh0vak0ir265a6&dl=1\n",
            "Reusing existing connection to www.dropbox.com:443.\n",
            "HTTP request sent, awaiting response... 302 Found\n",
            "Location: https://uca72a900b610f667abeac3f9bba.dl.dropboxusercontent.com/cd/0/inline/CdGf_2BlenDlGXbXt-CoVlQ9c7TCpGMnLnPeO8zRc-f3f00A5k5QdUCs9ExiLCbTO7B56cF_GS-cXOMJz0ijQqAUlyXX9ACLFmov10OnZwtAyydH4yHch2FKr9_H2kb1bow/file?dl=1# [following]\n",
            "--2024-10-24 18:10:32--  https://uca72a900b610f667abeac3f9bba.dl.dropboxusercontent.com/cd/0/inline/CdGf_2BlenDlGXbXt-CoVlQ9c7TCpGMnLnPeO8zRc-f3f00A5k5QdUCs9ExiLCbTO7B56cF_GS-cXOMJz0ijQqAUlyXX9ACLFmov10OnZwtAyydH4yHch2FKr9_H2kb1bow/file?dl=1\n",
            "Resolving uca72a900b610f667abeac3f9bba.dl.dropboxusercontent.com (uca72a900b610f667abeac3f9bba.dl.dropboxusercontent.com)... 162.125.5.15, 2620:100:6031:15::a27d:510f\n",
            "Connecting to uca72a900b610f667abeac3f9bba.dl.dropboxusercontent.com (uca72a900b610f667abeac3f9bba.dl.dropboxusercontent.com)|162.125.5.15|:443... connected.\n",
            "HTTP request sent, awaiting response... 200 OK\n",
            "Length: 12905335 (12M) [application/binary]\n",
            "Saving to: ‘data.txt’\n",
            "\n",
            "data.txt            100%[===================>]  12.31M  4.85MB/s    in 2.5s    \n",
            "\n",
            "2024-10-24 18:10:36 (4.85 MB/s) - ‘data.txt’ saved [12905335/12905335]\n",
            "\n",
            "--2024-10-24 18:10:36--  https://raw.githubusercontent.com/yandexdataschool/nlp_course/2020/week04_seq2seq/vocab.py\n",
            "Resolving raw.githubusercontent.com (raw.githubusercontent.com)... 185.199.109.133, 185.199.111.133, 185.199.110.133, ...\n",
            "Connecting to raw.githubusercontent.com (raw.githubusercontent.com)|185.199.109.133|:443... connected.\n",
            "HTTP request sent, awaiting response... 200 OK\n",
            "Length: 2879 (2.8K) [text/plain]\n",
            "Saving to: ‘vocab.py’\n",
            "\n",
            "vocab.py            100%[===================>]   2.81K  --.-KB/s    in 0s      \n",
            "\n",
            "2024-10-24 18:10:36 (39.0 MB/s) - ‘vocab.py’ saved [2879/2879]\n",
            "\n"
          ]
        }
      ],
      "execution_count": 2
    },
    {
      "cell_type": "code",
      "execution_count": 3,
      "metadata": {
        "id": "g9kP0SdxlrsY",
        "colab": {
          "base_uri": "https://localhost:8080/"
        },
        "outputId": "9512700d-a682-4fbb-82e1-9479e674cdc0"
      },
      "outputs": [
        {
          "output_type": "stream",
          "name": "stderr",
          "text": [
            "100%|██████████| 8000/8000 [00:21<00:00, 371.56it/s]\n",
            "100%|██████████| 8000/8000 [00:11<00:00, 699.68it/s]\n"
          ]
        }
      ],
      "source": [
        "from nltk.tokenize import WordPunctTokenizer\n",
        "from subword_nmt.learn_bpe import learn_bpe\n",
        "from subword_nmt.apply_bpe import BPE\n",
        "tokenizer = WordPunctTokenizer()\n",
        "def tokenize(x):\n",
        "    return ' '.join(tokenizer.tokenize(x.lower()))\n",
        "\n",
        "# split and tokenize the data\n",
        "with open('train.en', 'w') as f_src,  open('train.ru', 'w') as f_dst:\n",
        "    for line in open('data.txt'):\n",
        "        src_line, dst_line = line.strip().split('\\t')\n",
        "        f_src.write(tokenize(src_line) + '\\n')\n",
        "        f_dst.write(tokenize(dst_line) + '\\n')\n",
        "\n",
        "# build and apply bpe vocs\n",
        "bpe = {}\n",
        "for lang in ['en', 'ru']:\n",
        "    learn_bpe(open('./train.' + lang), open('bpe_rules.' + lang, 'w'), num_symbols=8000)\n",
        "    bpe[lang] = BPE(open('./bpe_rules.' + lang))\n",
        "\n",
        "    with open('train.bpe.' + lang, 'w') as f_out:\n",
        "        for line in open('train.' + lang):\n",
        "            f_out.write(bpe[lang].process_line(line.strip()) + '\\n')"
      ]
    },
    {
      "cell_type": "markdown",
      "metadata": {
        "id": "0UPW3sV8lrsb"
      },
      "source": [
        "### Building vocabularies\n",
        "\n",
        "We now need to build vocabularies that map strings to token ids and vice versa. We're gonna need these fellas when we feed training data into model or convert output matrices into words."
      ]
    },
    {
      "cell_type": "code",
      "execution_count": 4,
      "metadata": {
        "id": "CmTy_m_olrsb"
      },
      "outputs": [],
      "source": [
        "import numpy as np\n",
        "import matplotlib.pyplot as plt\n",
        "%matplotlib inline"
      ]
    },
    {
      "cell_type": "code",
      "execution_count": 5,
      "metadata": {
        "id": "8PskgBSxlrsd",
        "colab": {
          "base_uri": "https://localhost:8080/"
        },
        "outputId": "0ae37734-f7f8-4df3-81f4-5eadb0bec3b3"
      },
      "outputs": [
        {
          "output_type": "stream",
          "name": "stdout",
          "text": [
            "inp: на территории обустроена бесплатная частная парковка .\n",
            "out: free private parking is available on site .\n",
            "\n",
            "inp: кроме того , в 5 минутах ходьбы работают многочисленные бары и рестораны .\n",
            "out: guests can find many bars and restaurants within a 5 - minute walk .\n",
            "\n",
            "inp: отель san mi@@ gu@@ el расположен в центре мор@@ ели@@ и , в 750 метрах от главной площади города и кафедрального собора .\n",
            "out: hotel san miguel is located in central more@@ lia , 750 metres from the city ’ s main square and cathedral .\n",
            "\n"
          ]
        }
      ],
      "source": [
        "data_inp = np.array(open('./train.bpe.ru').read().split('\\n'))\n",
        "data_out = np.array(open('./train.bpe.en').read().split('\\n'))\n",
        "\n",
        "from sklearn.model_selection import train_test_split\n",
        "train_inp, dev_inp, train_out, dev_out = train_test_split(data_inp, data_out, test_size=3000,\n",
        "                                                          random_state=42)\n",
        "for i in range(3):\n",
        "    print('inp:', train_inp[i])\n",
        "    print('out:', train_out[i], end='\\n\\n')"
      ]
    },
    {
      "cell_type": "code",
      "execution_count": 6,
      "metadata": {
        "id": "vipg4O61lrsg"
      },
      "outputs": [],
      "source": [
        "from vocab import Vocab\n",
        "inp_voc = Vocab.from_lines(train_inp)\n",
        "out_voc = Vocab.from_lines(train_out)"
      ]
    },
    {
      "cell_type": "code",
      "execution_count": 7,
      "metadata": {
        "id": "cwOoHfuhlrsi",
        "colab": {
          "base_uri": "https://localhost:8080/"
        },
        "outputId": "c0bcc790-5472-47f3-a74c-f3b8db8e9f6a"
      },
      "outputs": [
        {
          "output_type": "stream",
          "name": "stdout",
          "text": [
            "lines\n",
            "['гостевой дом r .', 'до афин — 20 км .', 'работает боулинг .', 'оборудован балкон .', 'подключен wi - fi .']\n",
            "\n",
            "words to ids (0 = bos, 1 = eos):\n",
            "tensor([[   0, 2688, 2943, 1108,   29,    1,    1,    1],\n",
            "        [   0, 2922, 1834, 8035,   59, 3800,   29,    1],\n",
            "        [   0, 6030, 2083,   29,    1,    1,    1,    1],\n",
            "        [   0, 4927, 1870,   29,    1,    1,    1,    1],\n",
            "        [   0, 5549, 1453,   27,  592,   29,    1,    1]])\n",
            "\n",
            "back to words\n",
            "['гостевой дом r .', 'до афин — 20 км .', 'работает боулинг .', 'оборудован балкон .', 'подключен wi - fi .']\n"
          ]
        }
      ],
      "source": [
        "# Here's how you cast lines into ids and backwards.\n",
        "batch_lines = sorted(train_inp, key=len)[5:10]\n",
        "batch_ids = inp_voc.to_matrix(batch_lines)\n",
        "batch_lines_restored = inp_voc.to_lines(batch_ids)\n",
        "\n",
        "print(\"lines\")\n",
        "print(batch_lines)\n",
        "print(\"\\nwords to ids (0 = bos, 1 = eos):\")\n",
        "print(batch_ids)\n",
        "print(\"\\nback to words\")\n",
        "print(batch_lines_restored)"
      ]
    },
    {
      "cell_type": "markdown",
      "metadata": {
        "id": "gSYu-MkElrsk"
      },
      "source": [
        "Draw source and translation length distributions to estimate the scope of the task."
      ]
    },
    {
      "cell_type": "code",
      "execution_count": 8,
      "metadata": {
        "id": "TLLl9cSNlrsl",
        "colab": {
          "base_uri": "https://localhost:8080/",
          "height": 356
        },
        "outputId": "964b7db0-1878-4948-e1f2-613dab9a1167"
      },
      "outputs": [
        {
          "output_type": "display_data",
          "data": {
            "text/plain": [
              "<Figure size 800x400 with 2 Axes>"
            ],
            "image/png": "[encoded data removed]"
          },
          "metadata": {}
        }
      ],
      "source": [
        "plt.figure(figsize=[8, 4])\n",
        "plt.subplot(1, 2, 1)\n",
        "plt.title(\"source length\")\n",
        "plt.hist(list(map(len, map(str.split, train_inp))), bins=20);\n",
        "\n",
        "plt.subplot(1, 2, 2)\n",
        "plt.title(\"translation length\")\n",
        "plt.hist(list(map(len, map(str.split, train_out))), bins=20);"
      ]
    },
    {
      "cell_type": "markdown",
      "metadata": {
        "id": "BHWgx34flrsn"
      },
      "source": [
        "### Encoder-decoder model\n",
        "\n",
        "The code below contains a template for a simple encoder-decoder model: single GRU encoder/decoder, no attention or anything. This model is implemented for you as a reference and a baseline for your homework assignment."
      ]
    },
    {
      "cell_type": "code",
      "execution_count": 9,
      "metadata": {
        "id": "pd_rDRm9lrso"
      },
      "outputs": [],
      "source": [
        "import torch\n",
        "import torch.nn as nn\n",
        "import torch.nn.functional as F\n",
        "device = 'cuda' if torch.cuda.is_available() else 'cpu'"
      ]
    },
    {
      "cell_type": "code",
      "execution_count": 10,
      "metadata": {
        "id": "wgfN5-F7lrst"
      },
      "outputs": [],
      "source": [
        "class BasicModel(nn.Module):\n",
        "    def __init__(self, inp_voc, out_voc, emb_size=64, hid_size=128):\n",
        "        \"\"\"\n",
        "        A simple encoder-decoder seq2seq model\n",
        "        \"\"\"\n",
        "        super().__init__() # initialize base class to track sub-layers, parameters, etc.\n",
        "\n",
        "        self.inp_voc, self.out_voc = inp_voc, out_voc\n",
        "        self.hid_size = hid_size\n",
        "\n",
        "        self.emb_inp = nn.Embedding(len(inp_voc), emb_size)\n",
        "        self.emb_out = nn.Embedding(len(out_voc), emb_size)\n",
        "        self.enc0 = nn.GRU(emb_size, hid_size, batch_first=True)\n",
        "\n",
        "        self.dec_start = nn.Linear(hid_size, hid_size)\n",
        "        self.dec0 = nn.GRUCell(emb_size, hid_size)\n",
        "        self.logits = nn.Linear(hid_size, len(out_voc))\n",
        "\n",
        "    def forward(self, inp, out):\n",
        "        \"\"\" Apply model in training mode \"\"\"\n",
        "        initial_state = self.encode(inp)\n",
        "        return self.decode(initial_state, out)\n",
        "\n",
        "\n",
        "    def encode(self, inp, **flags):\n",
        "        \"\"\"\n",
        "        Takes symbolic input sequence, computes initial state\n",
        "        :param inp: matrix of input tokens [batch, time]\n",
        "        :returns: initial decoder state tensors, one or many\n",
        "        \"\"\"\n",
        "        inp_emb = self.emb_inp(inp)\n",
        "        batch_size = inp.shape[0]\n",
        "\n",
        "        enc_seq, [last_state_but_not_really] = self.enc0(inp_emb)\n",
        "        # enc_seq: [batch, time, hid_size], last_state: [batch, hid_size]\n",
        "\n",
        "        # note: last_state is not _actually_ last because of padding, let's find the real last_state\n",
        "        lengths = (inp != self.inp_voc.eos_ix).to(torch.int64).sum(dim=1).clamp_max(inp.shape[1] - 1)\n",
        "        last_state = enc_seq[torch.arange(len(enc_seq)), lengths]\n",
        "        # ^-- shape: [batch_size, hid_size]\n",
        "\n",
        "        dec_start = self.dec_start(last_state)\n",
        "        return [dec_start]\n",
        "\n",
        "    def decode_step(self, prev_state, prev_tokens, **flags):\n",
        "        \"\"\"\n",
        "        Takes previous decoder state and tokens, returns new state and logits for next tokens\n",
        "        :param prev_state: a list of previous decoder state tensors, same as returned by encode(...)\n",
        "        :param prev_tokens: previous output tokens, an int vector of [batch_size]\n",
        "        :return: a list of next decoder state tensors, a tensor of logits [batch, len(out_voc)]\n",
        "        \"\"\"\n",
        "        prev_gru0_state = prev_state[0]\n",
        "\n",
        "        prev_tokens_emb = self.emb_out(prev_tokens)\n",
        "        new_dec_state = self.dec0(prev_tokens_emb, prev_gru0_state)\n",
        "        output_logits = self.logits(new_dec_state)\n",
        "\n",
        "        new_dec_state = [new_dec_state]\n",
        "\n",
        "        return new_dec_state, output_logits\n",
        "\n",
        "    def decode(self, initial_state, out_tokens, **flags):\n",
        "        \"\"\" Iterate over reference tokens (out_tokens) with decode_step \"\"\"\n",
        "        batch_size = out_tokens.shape[0]\n",
        "        state = initial_state\n",
        "\n",
        "        # initial logits: always predict BOS\n",
        "        onehot_bos = F.one_hot(torch.full([batch_size], self.out_voc.bos_ix, dtype=torch.int64),\n",
        "                               num_classes=len(self.out_voc)).to(device=out_tokens.device)\n",
        "        first_logits = torch.log(onehot_bos.to(torch.float32) + 1e-9)\n",
        "\n",
        "        logits_sequence = [first_logits]\n",
        "        for i in range(out_tokens.shape[1] - 1):\n",
        "            state, logits = self.decode_step(state, out_tokens[:, i])\n",
        "            logits_sequence.append(logits)\n",
        "        return torch.stack(logits_sequence, dim=1)\n",
        "\n",
        "    def decode_inference(self, initial_state, max_len=100, **flags):\n",
        "        \"\"\" Generate translations from model (greedy version) \"\"\"\n",
        "        batch_size, device = len(initial_state[0]), initial_state[0].device\n",
        "        state = initial_state\n",
        "        outputs = [torch.full([batch_size], self.out_voc.bos_ix, dtype=torch.int64,\n",
        "                              device=device)]\n",
        "        all_states = [initial_state]\n",
        "\n",
        "        for i in range(max_len):\n",
        "            state, logits = self.decode_step(state, outputs[-1])\n",
        "            outputs.append(logits.argmax(dim=-1))\n",
        "            all_states.append(state)\n",
        "\n",
        "        return torch.stack(outputs, dim=1), all_states\n",
        "\n",
        "    def translate_lines(self, inp_lines, **kwargs):\n",
        "        inp = self.inp_voc.to_matrix(inp_lines).to(device)\n",
        "        initial_state = self.encode(inp)\n",
        "        out_ids, states = self.decode_inference(initial_state, **kwargs)\n",
        "        return self.out_voc.to_lines(out_ids.cpu().numpy()), states\n"
      ]
    },
    {
      "cell_type": "code",
      "execution_count": 11,
      "metadata": {
        "id": "yc75HRdMsdjA"
      },
      "outputs": [],
      "source": [
        "# debugging area\n",
        "model = BasicModel(inp_voc, out_voc).to(device)\n",
        "\n",
        "dummy_inp_tokens = inp_voc.to_matrix(sorted(train_inp, key=len)[5:10]).to(device)\n",
        "dummy_out_tokens = out_voc.to_matrix(sorted(train_out, key=len)[5:10]).to(device)\n",
        "\n",
        "h0 = model.encode(dummy_inp_tokens)\n",
        "h1, logits1 = model.decode_step(h0, torch.arange(len(dummy_inp_tokens), device=device))\n",
        "\n",
        "assert isinstance(h1, list) and len(h1) == len(h0)\n",
        "assert h1[0].shape == h0[0].shape and not torch.allclose(h1[0], h0[0])\n",
        "assert logits1.shape == (len(dummy_inp_tokens), len(out_voc))\n",
        "\n",
        "logits_seq = model.decode(h0, dummy_out_tokens)\n",
        "assert logits_seq.shape == (dummy_out_tokens.shape[0], dummy_out_tokens.shape[1], len(out_voc))\n",
        "\n",
        "# full forward\n",
        "logits_seq2 = model(dummy_inp_tokens, dummy_out_tokens)\n",
        "assert logits_seq2.shape == logits_seq.shape"
      ]
    },
    {
      "cell_type": "code",
      "execution_count": 12,
      "metadata": {
        "id": "eV5mCUFYsdjA",
        "colab": {
          "base_uri": "https://localhost:8080/"
        },
        "outputId": "8401b69b-eddc-40ce-e390-21b74729e78e"
      },
      "outputs": [
        {
          "output_type": "stream",
          "name": "stdout",
          "text": [
            "Translations without training:\n",
            "within cycling rist@@ stroll pp@@ chik launde@@ swimm@@ moscow win tained tr@@ pamukkale feature fru@@ minsk minsk syl@@ salam@@ g@@ communal zhou cycling rist@@ stroll\n",
            "within cycling stubai tional jan@@ rosso until cove italia dition poli@@ chopin catch catch catch ying prepared sak@@ ik@@ blanca within cycling caribbean weekend cand@@\n",
            "within cycling stubai tional jan@@ rosso until bel freezer freezer pet@@ sarajevo wired separ@@ toilets cov@@ mansion sible ului sphere ature koh asso scenery sigiriya\n"
          ]
        }
      ],
      "source": [
        "dummy_translations, dummy_states = model.translate_lines(train_inp[:3], max_len=25)\n",
        "print(\"Translations without training:\")\n",
        "print('\\n'.join([line for line in dummy_translations]))"
      ]
    },
    {
      "cell_type": "markdown",
      "metadata": {
        "id": "_wuv1-aVlrs0"
      },
      "source": [
        "### Training loss (2 points)\n",
        "\n",
        "Our training objective is almost the same as it was for neural language models:\n",
        "$$ L = {\\frac1{|D|}} \\sum_{X, Y \\in D} \\sum_{y_t \\in Y} - \\log p(y_t \\mid y_1, \\dots, y_{t-1}, X, \\theta) $$\n",
        "\n",
        "where $|D|$ is the __total length of all sequences__, including BOS and first EOS, but excluding PAD."
      ]
    },
    {
      "cell_type": "code",
      "execution_count": 13,
      "metadata": {
        "id": "c8XPV8sWlrs5",
        "scrolled": true
      },
      "outputs": [],
      "source": [
        "\n",
        "def compute_loss(model, inp, out, **flags):\n",
        "    \"\"\"\n",
        "    Compute loss (float32 scalar) as in the formula above\n",
        "    :param inp: input tokens matrix, int32[batch, time]\n",
        "    :param out: reference tokens matrix, int32[batch, time]\n",
        "\n",
        "    In order to pass the tests, your function should\n",
        "    * include loss at first EOS but not the subsequent ones\n",
        "    * divide sum of losses by a sum of input lengths (use voc.compute_mask)\n",
        "    \"\"\"\n",
        "    mask = model.out_voc.compute_mask(out) # [batch_size, out_len]\n",
        "    targets_1hot = F.one_hot(out, len(model.out_voc)).to(torch.float32)\n",
        "\n",
        "    # outputs of the model, [batch_size, out_len, num_tokens]\n",
        "    logits_seq = model(inp, out)\n",
        "\n",
        "    # log-probabilities of all tokens at all steps, [batch_size, out_len, num_tokens]\n",
        "    logprobs_seq = -torch.log_softmax(logits_seq, dim=-1)\n",
        "\n",
        "    # log-probabilities of correct outputs, [batch_size, out_len]\n",
        "    logp_out = (logprobs_seq * targets_1hot).sum(dim=-1)\n",
        "    # ^-- this will select the probability of the actual next token.\n",
        "    # Note: you can compute loss more efficiently using using F.cross_entropy\n",
        "\n",
        "    # average cross-entropy over tokens where mask == True\n",
        "    return  (logp_out * mask).sum() / mask.sum() # average loss, scalar"
      ]
    },
    {
      "cell_type": "code",
      "execution_count": 14,
      "metadata": {
        "id": "ME_LWUeklrs7",
        "colab": {
          "base_uri": "https://localhost:8080/"
        },
        "outputId": "128ed250-5922-434d-db2f-4214e946d3cd"
      },
      "outputs": [
        {
          "output_type": "stream",
          "name": "stdout",
          "text": [
            "Loss: tensor(7.5046, device='cuda:0', grad_fn=<DivBackward0>)\n"
          ]
        }
      ],
      "source": [
        "dummy_loss = compute_loss(model, dummy_inp_tokens, dummy_out_tokens)\n",
        "print(\"Loss:\", dummy_loss)\n",
        "assert np.allclose(dummy_loss.item(), 7.5, rtol=0.1, atol=0.1), \"We're sorry for your loss\"\n",
        "\n",
        "# test autograd\n",
        "dummy_loss.backward()\n",
        "for name, param in model.named_parameters():\n",
        "    assert param.grad is not None and abs(param.grad.max()) != 0, f\"Param {name} received no gradients\""
      ]
    },
    {
      "cell_type": "markdown",
      "metadata": {
        "id": "HpbaBpW7lrs-"
      },
      "source": [
        "### Evaluation: BLEU\n",
        "\n",
        "Machine translation is commonly evaluated with [BLEU](https://en.wikipedia.org/wiki/BLEU) score. This metric simply computes which fraction of predicted n-grams is actually present in the reference translation. It does so for n=1,2,3 and 4 and computes the geometric average with penalty if translation is shorter than reference.\n",
        "\n",
        "While BLEU [has many drawbacks](http://www.cs.jhu.edu/~ccb/publications/re-evaluating-the-role-of-bleu-in-mt-research.pdf), it still remains the most commonly used metric and one of the simplest to compute."
      ]
    },
    {
      "cell_type": "code",
      "execution_count": 15,
      "metadata": {
        "id": "Gb1-PhKIlrs-"
      },
      "outputs": [],
      "source": [
        "from nltk.translate.bleu_score import corpus_bleu\n",
        "def compute_bleu(model, inp_lines, out_lines, bpe_sep='@@ ', **flags):\n",
        "    \"\"\"\n",
        "    Estimates corpora-level BLEU score of model's translations given inp and reference out\n",
        "    Note: if you're serious about reporting your results, use https://pypi.org/project/sacrebleu\n",
        "    \"\"\"\n",
        "    with torch.no_grad():\n",
        "        translations, _ = model.translate_lines(inp_lines, **flags)\n",
        "        translations = [line.replace(bpe_sep, '') for line in translations]\n",
        "        actual = [line.replace(bpe_sep, '') for line in out_lines]\n",
        "        return corpus_bleu(\n",
        "            [[ref.split()] for ref in actual],\n",
        "            [trans.split() for trans in translations],\n",
        "            smoothing_function=lambda precisions, **kw: [p + 1.0 / p.denominator for p in precisions]\n",
        "            ) * 100"
      ]
    },
    {
      "cell_type": "code",
      "execution_count": 16,
      "metadata": {
        "id": "gZvfid1RlrtA",
        "colab": {
          "base_uri": "https://localhost:8080/"
        },
        "outputId": "c8b0f2e4-3b91-495c-a3d2-7c0cb1efdb88"
      },
      "outputs": [
        {
          "output_type": "execute_result",
          "data": {
            "text/plain": [
              "0.002783858109220147"
            ]
          },
          "metadata": {},
          "execution_count": 16
        }
      ],
      "source": [
        "compute_bleu(model, dev_inp, dev_out)"
      ]
    },
    {
      "cell_type": "markdown",
      "metadata": {
        "id": "nQDhGwg4lrtC"
      },
      "source": [
        "### Training loop\n",
        "\n",
        "Training encoder-decoder models isn't that different from any other models: sample batches, compute loss, backprop and update"
      ]
    },
    {
      "cell_type": "code",
      "execution_count": 17,
      "metadata": {
        "id": "yfwIaixHlrtI",
        "scrolled": false
      },
      "outputs": [],
      "source": [
        "from IPython.display import clear_output\n",
        "from tqdm import tqdm, trange\n",
        "metrics = {'train_loss': [], 'dev_bleu': [] }\n",
        "\n",
        "model = BasicModel(inp_voc, out_voc).to(device)\n",
        "opt = torch.optim.Adam(model.parameters(), lr=1e-3)\n",
        "batch_size = 32"
      ]
    },
    {
      "cell_type": "code",
      "execution_count": 18,
      "metadata": {
        "id": "LlDT6eDUlrtL",
        "scrolled": true,
        "colab": {
          "base_uri": "https://localhost:8080/",
          "height": 288
        },
        "outputId": "93fdc13d-9b51-4338-d50b-733f66eeba3b"
      },
      "outputs": [
        {
          "output_type": "display_data",
          "data": {
            "text/plain": [
              "<Figure size 1200x400 with 2 Axes>"
            ],
            "image/png": "[encoded data removed]"
          },
          "metadata": {}
        },
        {
          "output_type": "stream",
          "name": "stdout",
          "text": [
            "Mean loss=1.684\n"
          ]
        },
        {
          "output_type": "stream",
          "name": "stderr",
          "text": [
            "100%|██████████| 25000/25000 [20:13<00:00, 20.60it/s]\n"
          ]
        }
      ],
      "source": [
        "for _ in trange(25000):\n",
        "    step = len(metrics['train_loss']) + 1\n",
        "    batch_ix = np.random.randint(len(train_inp), size=batch_size)\n",
        "    batch_inp = inp_voc.to_matrix(train_inp[batch_ix]).to(device)\n",
        "    batch_out = out_voc.to_matrix(train_out[batch_ix]).to(device)\n",
        "\n",
        "    opt.zero_grad()\n",
        "    loss_t = compute_loss(model, batch_inp, batch_out)\n",
        "    loss_t.backward()\n",
        "    opt.step()\n",
        "\n",
        "    metrics['train_loss'].append((step, loss_t.item()))\n",
        "\n",
        "    if step % 100 == 0:\n",
        "        metrics['dev_bleu'].append((step, compute_bleu(model, dev_inp, dev_out)))\n",
        "\n",
        "        clear_output(True)\n",
        "        plt.figure(figsize=(12,4))\n",
        "        for i, (name, history) in enumerate(sorted(metrics.items())):\n",
        "            plt.subplot(1, len(metrics), i + 1)\n",
        "            plt.title(name)\n",
        "            plt.plot(*zip(*history))\n",
        "            plt.grid()\n",
        "        plt.show()\n",
        "        print(\"Mean loss=%.3f\" % np.mean(metrics['train_loss'][-10:], axis=0)[1], flush=True)\n",
        "\n",
        "# Note: it's okay if bleu oscillates up and down as long as it gets better on average over long term (e.g. 5k batches)"
      ]
    },
    {
      "cell_type": "code",
      "execution_count": 19,
      "metadata": {
        "id": "2ahuhKVhlrtP"
      },
      "outputs": [],
      "source": [
        "assert np.mean(metrics['dev_bleu'][-10:], axis=0)[1] > 15, \"We kind of need a higher bleu BLEU from you. Kind of right now.\""
      ]
    },
    {
      "cell_type": "code",
      "execution_count": 20,
      "metadata": {
        "id": "KyaHOpealrtS",
        "colab": {
          "base_uri": "https://localhost:8080/"
        },
        "outputId": "62bc284a-13e7-4829-b59a-a0c5aca9eb5c"
      },
      "outputs": [
        {
          "output_type": "stream",
          "name": "stdout",
          "text": [
            "в распоряжении гостей общая кухня и общая гостиная .\n",
            "guests can use a shared kitchen , and shared kitchen facilities .\n",
            "\n",
            "кроме того , предоставляется прокат велосипедов , услуги трансфера и бесплатная парковка .\n",
            "car rentals and free bikes are available .\n",
            "\n",
            "расстояние до города ки@@ сси@@ м@@ ми составляет 26 км .\n",
            "gau@@ den@@ ia is 36 km from the property .\n",
            "\n",
            "апартаменты в пент@@ хаусе с общим открытым бассейном , садом , кондиционером и террасой для загара расположены в 5 минутах ходьбы от пляжа на курорте ка@@ бо - рой .\n",
            "located in the centre of agia , this air - conditioned apartment features a balcony and a terrace . the property is set in a garden with a pool and a sun terrace .\n",
            "\n",
            "апартаменты mo@@ s@@ co@@ w point - loft red square находятся в москве , в 200 метрах от большого театра .\n",
            "apartment on sar@@ ci@@ á offers self - catering accommodation in rome . the property is 700 metres from piazza navona square .\n",
            "\n",
            "в вашем распоряжении собственная ванная комната с душем и полотенцами .\n",
            "featuring a shower , private bathrooms also come with towels .\n",
            "\n"
          ]
        }
      ],
      "source": [
        "for inp_line, trans_line in zip(dev_inp[::500], model.translate_lines(dev_inp[::500])[0]):\n",
        "    print(inp_line)\n",
        "    print(trans_line)\n",
        "    print()"
      ]
    },
    {
      "cell_type": "markdown",
      "metadata": {
        "id": "edk_oVg0lrtW"
      },
      "source": [
        "### Your Attention Required\n",
        "\n",
        "In this section we want you to improve over the basic model by implementing a simple attention mechanism.\n",
        "\n",
        "This is gonna be a two-parter: building the __attention layer__ and using it for an __attentive seq2seq model__."
      ]
    },
    {
      "cell_type": "markdown",
      "metadata": {
        "id": "Qz9aROAIlrtX"
      },
      "source": [
        "### Attention layer (3 points)\n",
        "\n",
        "Here you will have to implement a layer that computes a simple additive attention:\n",
        "\n",
        "Given encoder sequence $ h^e_0, h^e_1, h^e_2, ..., h^e_T$ and a single decoder state $h^d$,\n",
        "\n",
        "* Compute logits with a 2-layer neural network\n",
        "$$a_t = linear_{out}(tanh(linear_{e}(h^e_t) + linear_{d}(h_d)))$$\n",
        "* Get probabilities from logits,\n",
        "$$ p_t = {{e ^ {a_t}} \\over { \\sum_\\tau e^{a_\\tau} }} $$\n",
        "\n",
        "* Add up encoder states with probabilities to get __attention response__\n",
        "$$ attn = \\sum_t p_t \\cdot h^e_t $$\n",
        "\n",
        "You can learn more about attention layers in the lecture slides or [from this post](https://distill.pub/2016/augmented-rnns/)."
      ]
    },
    {
      "cell_type": "code",
      "execution_count": 21,
      "metadata": {
        "id": "xaZIGIIqsdjF"
      },
      "outputs": [],
      "source": [
        "class AttentionLayer(nn.Module):\n",
        "    def __init__(self, name, enc_size, dec_size, hid_size, activ=torch.tanh):\n",
        "        \"\"\" A layer that computes additive attention response and weights \"\"\"\n",
        "        super().__init__()\n",
        "        self.name = name\n",
        "        self.enc_size = enc_size # num units in encoder state\n",
        "        self.dec_size = dec_size # num units in decoder state\n",
        "        self.hid_size = hid_size # attention layer hidden units\n",
        "        self.activ = activ       # attention layer hidden nonlinearity\n",
        "\n",
        "        # create trainable paramteres like this:\n",
        "        self.linear_e = nn.Linear(enc_size, hid_size)\n",
        "        self.linear_d = nn.Linear(dec_size, hid_size)\n",
        "        self.linear_out = nn.Linear(hid_size, 1)\n",
        "\n",
        "\n",
        "    def forward(self, enc, dec, inp_mask):\n",
        "        \"\"\"\n",
        "        Computes attention response and weights\n",
        "        :param enc: encoder activation sequence, float32[batch_size, ninp, enc_size]\n",
        "        :param dec: single decoder state used as \"query\", float32[batch_size, dec_size]\n",
        "        :param inp_mask: mask on enc activatons (0 after first eos), float32 [batch_size, ninp]\n",
        "        :returns: attn[batch_size, enc_size], probs[batch_size, ninp]\n",
        "            - attn - attention response vector (weighted sum of enc)\n",
        "            - probs - attention weights after softmax\n",
        "        \"\"\"\n",
        "\n",
        "        # Compute logits\n",
        "        enc_proj = self.linear_e(enc)  # [batch_size, ninp, hid_size]\n",
        "        dec_proj = self.linear_d(dec).unsqueeze(1)  # [batch_size, 1, hid_size]\n",
        "        combined = self.activ(enc_proj + dec_proj)  # [batch_size, ninp, hid_size]\n",
        "        logits = self.linear_out(combined).squeeze(-1)  # [batch_size, ninp]\n",
        "\n",
        "        # Apply mask - if mask is 0, logits should be -inf or -1e9\n",
        "        # You may need torch.where\n",
        "        logits = torch.where(inp_mask != 0, logits, torch.tensor(-1e9, device=logits.device))\n",
        "\n",
        "        # Compute attention probabilities (softmax)\n",
        "        probs = torch.softmax(logits, dim=-1)\n",
        "\n",
        "        # Compute attention response using enc and probs\n",
        "        attn = torch.bmm(probs.unsqueeze(1), enc).squeeze(1)\n",
        "\n",
        "        return attn, probs"
      ]
    },
    {
      "cell_type": "markdown",
      "metadata": {
        "id": "IalfpdAelrtb"
      },
      "source": [
        "### Seq2seq model with attention (3 points)\n",
        "\n",
        "You can now use the attention layer to build a network. The simplest way to implement attention is to use it in decoder phase:\n",
        "![img](https://i.imgur.com/6fKHlHb.png)\n",
        "_image from distill.pub [article](https://distill.pub/2016/augmented-rnns/)_\n",
        "\n",
        "On every step, use __previous__ decoder state to obtain attention response. Then feed concat this response to the inputs of next attention layer.\n",
        "\n",
        "The key implementation detail here is __model state__. Put simply, you can add any tensor into the list of `encode` outputs. You will then have access to them at each `decode` step. This may include:\n",
        "* Last RNN hidden states (as in basic model)\n",
        "* The whole sequence of encoder outputs (to attend to) and mask\n",
        "* Attention probabilities (to visualize)\n",
        "\n",
        "_There are, of course, alternative ways to wire attention into your network and different kinds of attention. Take a look at [this](https://arxiv.org/abs/1609.08144), [this](https://arxiv.org/abs/1706.03762) and [this](https://arxiv.org/abs/1808.03867) for ideas. And for image captioning/im2latex there's [visual attention](https://arxiv.org/abs/1502.03044)_"
      ]
    },
    {
      "cell_type": "code",
      "execution_count": 22,
      "metadata": {
        "id": "NCKPB5JmcE6j"
      },
      "outputs": [],
      "source": [
        "class AttentiveModel(BasicModel):\n",
        "    def __init__(self, name, inp_voc, out_voc,\n",
        "                 emb_size=64, hid_size=128, attn_size=128):\n",
        "        \"\"\" Translation model that uses attention. See instructions above. \"\"\"\n",
        "        super().__init__(inp_voc, out_voc, emb_size, hid_size)\n",
        "        self.inp_voc, self.out_voc = inp_voc, out_voc\n",
        "        self.hid_size = hid_size\n",
        "\n",
        "        self.dec0 = nn.GRUCell(emb_size + attn_size, hid_size)\n",
        "        self.attn_layer = AttentionLayer(name, enc_size=hid_size,\n",
        "                                         dec_size=hid_size, hid_size=attn_size)\n",
        "\n",
        "\n",
        "    def encode(self, inp, **flags):\n",
        "        \"\"\"\n",
        "        Takes symbolic input sequence, computes initial state\n",
        "        :param inp: matrix of input tokens [batch, time]\n",
        "        :return: a list of initial decoder state tensors\n",
        "        \"\"\"\n",
        "\n",
        "        # encode input sequence, create initial decoder states\n",
        "        inp_emb = self.emb_inp(inp)\n",
        "        enc_seq, last_state = self.enc0(inp_emb)\n",
        "        inp_mask = (inp != self.inp_voc.eos_ix).float()\n",
        "\n",
        "        lengths = (inp != self.inp_voc.eos_ix).to(torch.int64).sum(dim=1).clamp_max(inp.shape[1] - 1)\n",
        "        last_state = enc_seq[torch.arange(len(enc_seq)), lengths]\n",
        "\n",
        "        # apply attention layer from initial decoder hidden state\n",
        "        first_attn_response, first_attn_probas = self.attn_layer(enc_seq, last_state, inp_mask)\n",
        "\n",
        "        # Build first state: include\n",
        "        # * initial states for decoder recurrent layers\n",
        "        # * encoder sequence and encoder attn mask (for attention)\n",
        "        # * make sure that last state item is attention probabilities tensor\n",
        "        dec_start = self.dec_start(last_state)\n",
        "\n",
        "        first_state = [dec_start, enc_seq, inp_mask, first_attn_probas]\n",
        "        return first_state\n",
        "\n",
        "    def decode_step(self, prev_state, prev_tokens, **flags):\n",
        "        \"\"\"\n",
        "        Takes previous decoder state and tokens, returns new state and logits for next tokens\n",
        "        :param prev_state: a list of previous decoder state tensors\n",
        "        :param prev_tokens: previous output tokens, an int vector of [batch_size]\n",
        "        :return: a list of next decoder state tensors, a tensor of logits [batch, n_tokens]\n",
        "        \"\"\"\n",
        "\n",
        "        prev_dec_state, enc_seq, inp_mask, _ = prev_state\n",
        "        prev_emb = self.emb_out(prev_tokens)\n",
        "\n",
        "        attn_response, attn_probs = self.attn_layer(enc_seq, prev_dec_state, inp_mask)\n",
        "        dec_input = torch.cat([prev_emb, attn_response], dim=-1)\n",
        "\n",
        "        new_gru_state = self.dec0(dec_input, prev_dec_state)\n",
        "        output_logits = self.logits(new_gru_state)\n",
        "\n",
        "        new_dec_state = [new_gru_state, enc_seq, inp_mask, attn_probs]\n",
        "\n",
        "        return [new_dec_state, output_logits]\n"
      ]
    },
    {
      "cell_type": "markdown",
      "metadata": {
        "id": "ryZCOTEslrtf"
      },
      "source": [
        "### Training attentive model\n",
        "\n",
        "Please reuse the infrastructure you've built for the regular model. I hope you didn't hard-code anything :)"
      ]
    },
    {
      "cell_type": "code",
      "execution_count": 23,
      "metadata": {
        "id": "-YMHPgZxcFaQ"
      },
      "outputs": [],
      "source": [
        "metrics = {'train_loss': [], 'dev_bleu': [] }\n",
        "\n",
        "model = AttentiveModel(\"Attentive Model\", inp_voc, out_voc).to(device)\n",
        "opt = torch.optim.Adam(model.parameters(), lr=1e-3)\n",
        "batch_size = 32"
      ]
    },
    {
      "cell_type": "code",
      "execution_count": 24,
      "metadata": {
        "id": "3jtB-PVdsdjG",
        "colab": {
          "base_uri": "https://localhost:8080/",
          "height": 291
        },
        "outputId": "70857ea2-29e4-4541-e343-d777c3604807"
      },
      "outputs": [
        {
          "output_type": "display_data",
          "data": {
            "text/plain": [
              "<Figure size 1200x400 with 2 Axes>"
            ],
            "image/png": "[encoded data removed]"
          },
          "metadata": {}
        },
        {
          "output_type": "stream",
          "name": "stdout",
          "text": [
            "Mean loss=1.577\n"
          ]
        },
        {
          "output_type": "stream",
          "name": "stderr",
          "text": [
            "\r100%|██████████| 25000/25000 [46:56<00:00,  8.88it/s]\n"
          ]
        }
      ],
      "source": [
        "for _ in trange(25000):\n",
        "    step = len(metrics['train_loss']) + 1\n",
        "    batch_ix = np.random.randint(len(train_inp), size=batch_size)\n",
        "    batch_inp = inp_voc.to_matrix(train_inp[batch_ix]).to(device)\n",
        "    batch_out = out_voc.to_matrix(train_out[batch_ix]).to(device)\n",
        "\n",
        "    opt.zero_grad()\n",
        "    loss_t = compute_loss(model, batch_inp, batch_out)\n",
        "    loss_t.backward()\n",
        "    opt.step()\n",
        "\n",
        "    metrics['train_loss'].append((step, loss_t.item()))\n",
        "\n",
        "    if step % 100 == 0:\n",
        "        metrics['dev_bleu'].append((step, compute_bleu(model, dev_inp, dev_out)))\n",
        "\n",
        "        clear_output(True)\n",
        "        plt.figure(figsize=(12,4))\n",
        "        for i, (name, history) in enumerate(sorted(metrics.items())):\n",
        "            plt.subplot(1, len(metrics), i + 1)\n",
        "            plt.title(name)\n",
        "            plt.plot(*zip(*history))\n",
        "            plt.grid()\n",
        "        plt.show()\n",
        "        print(\"Mean loss=%.3f\" % np.mean(metrics['train_loss'][-10:], axis=0)[1], flush=True)"
      ]
    },
    {
      "cell_type": "code",
      "execution_count": 25,
      "metadata": {
        "id": "M6ydjOjisdjH",
        "colab": {
          "base_uri": "https://localhost:8080/"
        },
        "outputId": "41a90c72-e9b2-4b26-bf79-1fe7a3c4eeb8"
      },
      "outputs": [
        {
          "output_type": "execute_result",
          "data": {
            "text/plain": [
              "23.50791663907496"
            ]
          },
          "metadata": {},
          "execution_count": 25
        }
      ],
      "source": [
        "compute_bleu(model, dev_inp, dev_out)"
      ]
    },
    {
      "cell_type": "markdown",
      "metadata": {
        "id": "rxNYllM_sdjH"
      },
      "source": [
        "### Visualizing model attention (2 points)\n",
        "\n",
        "After training the attentive translation model, you can check it's sanity by visualizing its attention weights.\n",
        "\n",
        "We provided you with a function that draws attention maps using [`Bokeh`](https://bokeh.pydata.org/en/latest/index.html). Once you managed to produce something better than random noise, please save at least 3 attention maps and __submit them to anytask__ alongside this notebook to get the max grade. Saving bokeh figures as __cell outputs is not enough!__ (TAs can't see saved bokeh figures in anytask). You can save bokeh images as screenshots or using this button:\n",
        "\n",
        "![bokeh_panel](https://github.com/yandexdataschool/nlp_course/raw/2019/resources/bokeh_panel.png)\n",
        "\n",
        "__Note:__ you're not locked into using bokeh. If you prefer a different visualization method, feel free to use that instead of bokeh."
      ]
    },
    {
      "cell_type": "code",
      "execution_count": 26,
      "metadata": {
        "id": "nBF5IEDfsdjH"
      },
      "outputs": [],
      "source": [
        "import bokeh.plotting as pl\n",
        "import bokeh.models as bm\n",
        "from bokeh.io import output_notebook, show\n",
        "output_notebook()\n",
        "\n",
        "def draw_attention(inp_line, translation, probs):\n",
        "    \"\"\" An intentionally ambiguous function to visualize attention weights \"\"\"\n",
        "    inp_tokens = inp_voc.tokenize(inp_line)\n",
        "    trans_tokens = out_voc.tokenize(translation)\n",
        "    probs = probs[:len(trans_tokens), :len(inp_tokens)]\n",
        "\n",
        "    fig = pl.figure(x_range=(0, len(inp_tokens)), y_range=(0, len(trans_tokens)),\n",
        "                    x_axis_type=None, y_axis_type=None, tools=[])\n",
        "    fig.image([probs[::-1]], 0, 0, len(inp_tokens), len(trans_tokens))\n",
        "\n",
        "    fig.add_layout(bm.LinearAxis(axis_label='source tokens'), 'above')\n",
        "    fig.xaxis.ticker = np.arange(len(inp_tokens)) + 0.5\n",
        "    fig.xaxis.major_label_overrides = dict(zip(np.arange(len(inp_tokens)) + 0.5, inp_tokens))\n",
        "    fig.xaxis.major_label_orientation = 45\n",
        "\n",
        "    fig.add_layout(bm.LinearAxis(axis_label='translation tokens'), 'left')\n",
        "    fig.yaxis.ticker = np.arange(len(trans_tokens)) + 0.5\n",
        "    fig.yaxis.major_label_overrides = dict(zip(np.arange(len(trans_tokens)) + 0.5, trans_tokens[::-1]))\n",
        "\n",
        "    show(fig)"
      ]
    },
    {
      "cell_type": "code",
      "execution_count": 27,
      "metadata": {
        "id": "sk4a81HNsdjH"
      },
      "outputs": [],
      "source": [
        "inp = dev_inp[::500]\n",
        "\n",
        "trans, states = model.translate_lines(inp)\n",
        "\n",
        "# select attention probs from model state (you may need to change this for your custom model)\n",
        "# attention_probs below must have shape [batch_size, translation_length, input_length], extracted from states\n",
        "# e.g. if attention probs are at the end of each state, use np.stack([state[-1] for state in states], axis=1)\n",
        "attention_probs = np.stack([state[-1].detach().cpu() for state in states], axis=1)"
      ]
    },
    {
      "cell_type": "code",
      "execution_count": 28,
      "metadata": {
        "id": "DEeWF3EEsdjI",
        "colab": {
          "base_uri": "https://localhost:8080/",
          "height": 1000
        },
        "outputId": "b4466398-2181-4893-a034-37ba537e4947"
      },
      "outputs": [
        {
          "output_type": "display_data",
          "data": {
            "application/javascript": [
              "'use strict';\n",
              "(function(root) {\n",
              "  function now() {\n",
              "    return new Date();\n",
              "  }\n",
              "\n",
              "  const force = true;\n",
              "\n",
              "  if (typeof root._bokeh_onload_callbacks === \"undefined\" || force === true) {\n",
              "    root._bokeh_onload_callbacks = [];\n",
              "    root._bokeh_is_loading = undefined;\n",
              "  }\n",
              "\n",
              "const JS_MIME_TYPE = 'application/javascript';\n",
              "  const HTML_MIME_TYPE = 'text/html';\n",
              "  const EXEC_MIME_TYPE = 'application/vnd.bokehjs_exec.v0+json';\n",
              "  const CLASS_NAME = 'output_bokeh rendered_html';\n",
              "\n",
              "  /**\n",
              "   * Render data to the DOM node\n",
              "   */\n",
              "  function render(props, node) {\n",
              "    const script = document.createElement(\"script\");\n",
              "    node.appendChild(script);\n",
              "  }\n",
              "\n",
              "  /**\n",
              "   * Handle when an output is cleared or removed\n",
              "   */\n",
              "  function handleClearOutput(event, handle) {\n",
              "    function drop(id) {\n",
              "      const view = Bokeh.index.get_by_id(id)\n",
              "      if (view != null) {\n",
              "        view.model.document.clear()\n",
              "        Bokeh.index.delete(view)\n",
              "      }\n",
              "    }\n",
              "\n",
              "    const cell = handle.cell;\n",
              "\n",
              "    const id = cell.output_area._bokeh_element_id;\n",
              "    const server_id = cell.output_area._bokeh_server_id;\n",
              "\n",
              "    // Clean up Bokeh references\n",
              "    if (id != null) {\n",
              "      drop(id)\n",
              "    }\n",
              "\n",
              "    if (server_id !== undefined) {\n",
              "      // Clean up Bokeh references\n",
              "      const cmd_clean = \"from bokeh.io.state import curstate; print(curstate().uuid_to_server['\" + server_id + \"'].get_sessions()[0].document.roots[0]._id)\";\n",
              "      cell.notebook.kernel.execute(cmd_clean, {\n",
              "        iopub: {\n",
              "          output: function(msg) {\n",
              "            const id = msg.content.text.trim()\n",
              "            drop(id)\n",
              "          }\n",
              "        }\n",
              "      });\n",
              "      // Destroy server and session\n",
              "      const cmd_destroy = \"import bokeh.io.notebook as ion; ion.destroy_server('\" + server_id + \"')\";\n",
              "      cell.notebook.kernel.execute(cmd_destroy);\n",
              "    }\n",
              "  }\n",
              "\n",
              "  /**\n",
              "   * Handle when a new output is added\n",
              "   */\n",
              "  function handleAddOutput(event, handle) {\n",
              "    const output_area = handle.output_area;\n",
              "    const output = handle.output;\n",
              "\n",
              "    // limit handleAddOutput to display_data with EXEC_MIME_TYPE content only\n",
              "    if ((output.output_type != \"display_data\") || (!Object.prototype.hasOwnProperty.call(output.data, EXEC_MIME_TYPE))) {\n",
              "      return\n",
              "    }\n",
              "\n",
              "    const toinsert = output_area.element.find(\".\" + CLASS_NAME.split(' ')[0]);\n",
              "\n",
              "    if (output.metadata[EXEC_MIME_TYPE][\"id\"] !== undefined) {\n",
              "      toinsert[toinsert.length - 1].firstChild.textContent = output.data[JS_MIME_TYPE];\n",
              "      // store reference to embed id on output_area\n",
              "      output_area._bokeh_element_id = output.metadata[EXEC_MIME_TYPE][\"id\"];\n",
              "    }\n",
              "    if (output.metadata[EXEC_MIME_TYPE][\"server_id\"] !== undefined) {\n",
              "      const bk_div = document.createElement(\"div\");\n",
              "      bk_div.innerHTML = output.data[HTML_MIME_TYPE];\n",
              "      const script_attrs = bk_div.children[0].attributes;\n",
              "      for (let i = 0; i < script_attrs.length; i++) {\n",
              "        toinsert[toinsert.length - 1].firstChild.setAttribute(script_attrs[i].name, script_attrs[i].value);\n",
              "        toinsert[toinsert.length - 1].firstChild.textContent = bk_div.children[0].textContent\n",
              "      }\n",
              "      // store reference to server id on output_area\n",
              "      output_area._bokeh_server_id = output.metadata[EXEC_MIME_TYPE][\"server_id\"];\n",
              "    }\n",
              "  }\n",
              "\n",
              "  function register_renderer(events, OutputArea) {\n",
              "\n",
              "    function append_mime(data, metadata, element) {\n",
              "      // create a DOM node to render to\n",
              "      const toinsert = this.create_output_subarea(\n",
              "        metadata,\n",
              "        CLASS_NAME,\n",
              "        EXEC_MIME_TYPE\n",
              "      );\n",
              "      this.keyboard_manager.register_events(toinsert);\n",
              "      // Render to node\n",
              "      const props = {data: data, metadata: metadata[EXEC_MIME_TYPE]};\n",
              "      render(props, toinsert[toinsert.length - 1]);\n",
              "      element.append(toinsert);\n",
              "      return toinsert\n",
              "    }\n",
              "\n",
              "    /* Handle when an output is cleared or removed */\n",
              "    events.on('clear_output.CodeCell', handleClearOutput);\n",
              "    events.on('delete.Cell', handleClearOutput);\n",
              "\n",
              "    /* Handle when a new output is added */\n",
              "    events.on('output_added.OutputArea', handleAddOutput);\n",
              "\n",
              "    /**\n",
              "     * Register the mime type and append_mime function with output_area\n",
              "     */\n",
              "    OutputArea.prototype.register_mime_type(EXEC_MIME_TYPE, append_mime, {\n",
              "      /* Is output safe? */\n",
              "      safe: true,\n",
              "      /* Index of renderer in `output_area.display_order` */\n",
              "      index: 0\n",
              "    });\n",
              "  }\n",
              "\n",
              "  // register the mime type if in Jupyter Notebook environment and previously unregistered\n",
              "  if (root.Jupyter !== undefined) {\n",
              "    const events = require('base/js/events');\n",
              "    const OutputArea = require('notebook/js/outputarea').OutputArea;\n",
              "\n",
              "    if (OutputArea.prototype.mime_types().indexOf(EXEC_MIME_TYPE) == -1) {\n",
              "      register_renderer(events, OutputArea);\n",
              "    }\n",
              "  }\n",
              "  if (typeof (root._bokeh_timeout) === \"undefined\" || force === true) {\n",
              "    root._bokeh_timeout = Date.now() + 5000;\n",
              "    root._bokeh_failed_load = false;\n",
              "  }\n",
              "\n",
              "  const NB_LOAD_WARNING = {'data': {'text/html':\n",
              "     \"<div style='background-color: #fdd'>\\n\"+\n",
              "     \"<p>\\n\"+\n",
              "     \"BokehJS does not appear to have successfully loaded. If loading BokehJS from CDN, this \\n\"+\n",
              "     \"may be due to a slow or bad network connection. Possible fixes:\\n\"+\n",
              "     \"</p>\\n\"+\n",
              "     \"<ul>\\n\"+\n",
              "     \"<li>re-rerun `output_notebook()` to attempt to load from CDN again, or</li>\\n\"+\n",
              "     \"<li>use INLINE resources instead, as so:</li>\\n\"+\n",
              "     \"</ul>\\n\"+\n",
              "     \"<code>\\n\"+\n",
              "     \"from bokeh.resources import INLINE\\n\"+\n",
              "     \"output_notebook(resources=INLINE)\\n\"+\n",
              "     \"</code>\\n\"+\n",
              "     \"</div>\"}};\n",
              "\n",
              "  function display_loaded(error = null) {\n",
              "    const el = document.getElementById(null);\n",
              "    if (el != null) {\n",
              "      const html = (() => {\n",
              "        if (typeof root.Bokeh === \"undefined\") {\n",
              "          if (error == null) {\n",
              "            return \"BokehJS is loading ...\";\n",
              "          } else {\n",
              "            return \"BokehJS failed to load.\";\n",
              "          }\n",
              "        } else {\n",
              "          const prefix = `BokehJS ${root.Bokeh.version}`;\n",
              "          if (error == null) {\n",
              "            return `${prefix} successfully loaded.`;\n",
              "          } else {\n",
              "            return `${prefix} <b>encountered errors</b> while loading and may not function as expected.`;\n",
              "          }\n",
              "        }\n",
              "      })();\n",
              "      el.innerHTML = html;\n",
              "\n",
              "      if (error != null) {\n",
              "        const wrapper = document.createElement(\"div\");\n",
              "        wrapper.style.overflow = \"auto\";\n",
              "        wrapper.style.height = \"5em\";\n",
              "        wrapper.style.resize = \"vertical\";\n",
              "        const content = document.createElement(\"div\");\n",
              "        content.style.fontFamily = \"monospace\";\n",
              "        content.style.whiteSpace = \"pre-wrap\";\n",
              "        content.style.backgroundColor = \"rgb(255, 221, 221)\";\n",
              "        content.textContent = error.stack ?? error.toString();\n",
              "        wrapper.append(content);\n",
              "        el.append(wrapper);\n",
              "      }\n",
              "    } else if (Date.now() < root._bokeh_timeout) {\n",
              "      setTimeout(() => display_loaded(error), 100);\n",
              "    }\n",
              "  }\n",
              "\n",
              "  function run_callbacks() {\n",
              "    try {\n",
              "      root._bokeh_onload_callbacks.forEach(function(callback) {\n",
              "        if (callback != null)\n",
              "          callback();\n",
              "      });\n",
              "    } finally {\n",
              "      delete root._bokeh_onload_callbacks\n",
              "    }\n",
              "    console.debug(\"Bokeh: all callbacks have finished\");\n",
              "  }\n",
              "\n",
              "  function load_libs(css_urls, js_urls, callback) {\n",
              "    if (css_urls == null) css_urls = [];\n",
              "    if (js_urls == null) js_urls = [];\n",
              "\n",
              "    root._bokeh_onload_callbacks.push(callback);\n",
              "    if (root._bokeh_is_loading > 0) {\n",
              "      console.debug(\"Bokeh: BokehJS is being loaded, scheduling callback at\", now());\n",
              "      return null;\n",
              "    }\n",
              "    if (js_urls == null || js_urls.length === 0) {\n",
              "      run_callbacks();\n",
              "      return null;\n",
              "    }\n",
              "    console.debug(\"Bokeh: BokehJS not loaded, scheduling load and callback at\", now());\n",
              "    root._bokeh_is_loading = css_urls.length + js_urls.length;\n",
              "\n",
              "    function on_load() {\n",
              "      root._bokeh_is_loading--;\n",
              "      if (root._bokeh_is_loading === 0) {\n",
              "        console.debug(\"Bokeh: all BokehJS libraries/stylesheets loaded\");\n",
              "        run_callbacks()\n",
              "      }\n",
              "    }\n",
              "\n",
              "    function on_error(url) {\n",
              "      console.error(\"failed to load \" + url);\n",
              "    }\n",
              "\n",
              "    for (let i = 0; i < css_urls.length; i++) {\n",
              "      const url = css_urls[i];\n",
              "      const element = document.createElement(\"link\");\n",
              "      element.onload = on_load;\n",
              "      element.onerror = on_error.bind(null, url);\n",
              "      element.rel = \"stylesheet\";\n",
              "      element.type = \"text/css\";\n",
              "      element.href = url;\n",
              "      console.debug(\"Bokeh: injecting link tag for BokehJS stylesheet: \", url);\n",
              "      document.body.appendChild(element);\n",
              "    }\n",
              "\n",
              "    for (let i = 0; i < js_urls.length; i++) {\n",
              "      const url = js_urls[i];\n",
              "      const element = document.createElement('script');\n",
              "      element.onload = on_load;\n",
              "      element.onerror = on_error.bind(null, url);\n",
              "      element.async = false;\n",
              "      element.src = url;\n",
              "      console.debug(\"Bokeh: injecting script tag for BokehJS library: \", url);\n",
              "      document.head.appendChild(element);\n",
              "    }\n",
              "  };\n",
              "\n",
              "  function inject_raw_css(css) {\n",
              "    const element = document.createElement(\"style\");\n",
              "    element.appendChild(document.createTextNode(css));\n",
              "    document.body.appendChild(element);\n",
              "  }\n",
              "\n",
              "  const js_urls = [\"https://cdn.bokeh.org/bokeh/release/bokeh-3.4.3.min.js\", \"https://cdn.bokeh.org/bokeh/release/bokeh-gl-3.4.3.min.js\", \"https://cdn.bokeh.org/bokeh/release/bokeh-widgets-3.4.3.min.js\", \"https://cdn.bokeh.org/bokeh/release/bokeh-tables-3.4.3.min.js\", \"https://cdn.bokeh.org/bokeh/release/bokeh-mathjax-3.4.3.min.js\"];\n",
              "  const css_urls = [];\n",
              "\n",
              "  const inline_js = [    function(Bokeh) {\n",
              "      Bokeh.set_log_level(\"info\");\n",
              "    },\n",
              "function(Bokeh) {\n",
              "    }\n",
              "  ];\n",
              "\n",
              "  function run_inline_js() {\n",
              "    if (root.Bokeh !== undefined || force === true) {\n",
              "      try {\n",
              "            for (let i = 0; i < inline_js.length; i++) {\n",
              "      inline_js[i].call(root, root.Bokeh);\n",
              "    }\n",
              "\n",
              "      } catch (error) {throw error;\n",
              "      }} else if (Date.now() < root._bokeh_timeout) {\n",
              "      setTimeout(run_inline_js, 100);\n",
              "    } else if (!root._bokeh_failed_load) {\n",
              "      console.log(\"Bokeh: BokehJS failed to load within specified timeout.\");\n",
              "      root._bokeh_failed_load = true;\n",
              "    } else if (force !== true) {\n",
              "      const cell = $(document.getElementById(null)).parents('.cell').data().cell;\n",
              "      cell.output_area.append_execute_result(NB_LOAD_WARNING)\n",
              "    }\n",
              "  }\n",
              "\n",
              "  if (root._bokeh_is_loading === 0) {\n",
              "    console.debug(\"Bokeh: BokehJS loaded, going straight to plotting\");\n",
              "    run_inline_js();\n",
              "  } else {\n",
              "    load_libs(css_urls, js_urls, function() {\n",
              "      console.debug(\"Bokeh: BokehJS plotting callback run at\", now());\n",
              "      run_inline_js();\n",
              "    });\n",
              "  }\n",
              "}(window));"
            ],
            "application/vnd.bokehjs_load.v0+json": "'use strict';\n(function(root) {\n  function now() {\n    return new Date();\n  }\n\n  const force = true;\n\n  if (typeof root._bokeh_onload_callbacks === \"undefined\" || force === true) {\n    root._bokeh_onload_callbacks = [];\n    root._bokeh_is_loading = undefined;\n  }\n\n\n  if (typeof (root._bokeh_timeout) === \"undefined\" || force === true) {\n    root._bokeh_timeout = Date.now() + 5000;\n    root._bokeh_failed_load = false;\n  }\n\n  const NB_LOAD_WARNING = {'data': {'text/html':\n     \"<div style='background-color: #fdd'>\\n\"+\n     \"<p>\\n\"+\n     \"BokehJS does not appear to have successfully loaded. If loading BokehJS from CDN, this \\n\"+\n     \"may be due to a slow or bad network connection. Possible fixes:\\n\"+\n     \"</p>\\n\"+\n     \"<ul>\\n\"+\n     \"<li>re-rerun `output_notebook()` to attempt to load from CDN again, or</li>\\n\"+\n     \"<li>use INLINE resources instead, as so:</li>\\n\"+\n     \"</ul>\\n\"+\n     \"<code>\\n\"+\n     \"from bokeh.resources import INLINE\\n\"+\n     \"output_notebook(resources=INLINE)\\n\"+\n     \"</code>\\n\"+\n     \"</div>\"}};\n\n  function display_loaded(error = null) {\n    const el = document.getElementById(null);\n    if (el != null) {\n      const html = (() => {\n        if (typeof root.Bokeh === \"undefined\") {\n          if (error == null) {\n            return \"BokehJS is loading ...\";\n          } else {\n            return \"BokehJS failed to load.\";\n          }\n        } else {\n          const prefix = `BokehJS ${root.Bokeh.version}`;\n          if (error == null) {\n            return `${prefix} successfully loaded.`;\n          } else {\n            return `${prefix} <b>encountered errors</b> while loading and may not function as expected.`;\n          }\n        }\n      })();\n      el.innerHTML = html;\n\n      if (error != null) {\n        const wrapper = document.createElement(\"div\");\n        wrapper.style.overflow = \"auto\";\n        wrapper.style.height = \"5em\";\n        wrapper.style.resize = \"vertical\";\n        const content = document.createElement(\"div\");\n        content.style.fontFamily = \"monospace\";\n        content.style.whiteSpace = \"pre-wrap\";\n        content.style.backgroundColor = \"rgb(255, 221, 221)\";\n        content.textContent = error.stack ?? error.toString();\n        wrapper.append(content);\n        el.append(wrapper);\n      }\n    } else if (Date.now() < root._bokeh_timeout) {\n      setTimeout(() => display_loaded(error), 100);\n    }\n  }\n\n  function run_callbacks() {\n    try {\n      root._bokeh_onload_callbacks.forEach(function(callback) {\n        if (callback != null)\n          callback();\n      });\n    } finally {\n      delete root._bokeh_onload_callbacks\n    }\n    console.debug(\"Bokeh: all callbacks have finished\");\n  }\n\n  function load_libs(css_urls, js_urls, callback) {\n    if (css_urls == null) css_urls = [];\n    if (js_urls == null) js_urls = [];\n\n    root._bokeh_onload_callbacks.push(callback);\n    if (root._bokeh_is_loading > 0) {\n      console.debug(\"Bokeh: BokehJS is being loaded, scheduling callback at\", now());\n      return null;\n    }\n    if (js_urls == null || js_urls.length === 0) {\n      run_callbacks();\n      return null;\n    }\n    console.debug(\"Bokeh: BokehJS not loaded, scheduling load and callback at\", now());\n    root._bokeh_is_loading = css_urls.length + js_urls.length;\n\n    function on_load() {\n      root._bokeh_is_loading--;\n      if (root._bokeh_is_loading === 0) {\n        console.debug(\"Bokeh: all BokehJS libraries/stylesheets loaded\");\n        run_callbacks()\n      }\n    }\n\n    function on_error(url) {\n      console.error(\"failed to load \" + url);\n    }\n\n    for (let i = 0; i < css_urls.length; i++) {\n      const url = css_urls[i];\n      const element = document.createElement(\"link\");\n      element.onload = on_load;\n      element.onerror = on_error.bind(null, url);\n      element.rel = \"stylesheet\";\n      element.type = \"text/css\";\n      element.href = url;\n      console.debug(\"Bokeh: injecting link tag for BokehJS stylesheet: \", url);\n      document.body.appendChild(element);\n    }\n\n    for (let i = 0; i < js_urls.length; i++) {\n      const url = js_urls[i];\n      const element = document.createElement('script');\n      element.onload = on_load;\n      element.onerror = on_error.bind(null, url);\n      element.async = false;\n      element.src = url;\n      console.debug(\"Bokeh: injecting script tag for BokehJS library: \", url);\n      document.head.appendChild(element);\n    }\n  };\n\n  function inject_raw_css(css) {\n    const element = document.createElement(\"style\");\n    element.appendChild(document.createTextNode(css));\n    document.body.appendChild(element);\n  }\n\n  const js_urls = [\"https://cdn.bokeh.org/bokeh/release/bokeh-3.4.3.min.js\", \"https://cdn.bokeh.org/bokeh/release/bokeh-gl-3.4.3.min.js\", \"https://cdn.bokeh.org/bokeh/release/bokeh-widgets-3.4.3.min.js\", \"https://cdn.bokeh.org/bokeh/release/bokeh-tables-3.4.3.min.js\", \"https://cdn.bokeh.org/bokeh/release/bokeh-mathjax-3.4.3.min.js\"];\n  const css_urls = [];\n\n  const inline_js = [    function(Bokeh) {\n      Bokeh.set_log_level(\"info\");\n    },\nfunction(Bokeh) {\n    }\n  ];\n\n  function run_inline_js() {\n    if (root.Bokeh !== undefined || force === true) {\n      try {\n            for (let i = 0; i < inline_js.length; i++) {\n      inline_js[i].call(root, root.Bokeh);\n    }\n\n      } catch (error) {throw error;\n      }} else if (Date.now() < root._bokeh_timeout) {\n      setTimeout(run_inline_js, 100);\n    } else if (!root._bokeh_failed_load) {\n      console.log(\"Bokeh: BokehJS failed to load within specified timeout.\");\n      root._bokeh_failed_load = true;\n    } else if (force !== true) {\n      const cell = $(document.getElementById(null)).parents('.cell').data().cell;\n      cell.output_area.append_execute_result(NB_LOAD_WARNING)\n    }\n  }\n\n  if (root._bokeh_is_loading === 0) {\n    console.debug(\"Bokeh: BokehJS loaded, going straight to plotting\");\n    run_inline_js();\n  } else {\n    load_libs(css_urls, js_urls, function() {\n      console.debug(\"Bokeh: BokehJS plotting callback run at\", now());\n      run_inline_js();\n    });\n  }\n}(window));"
          },
          "metadata": {}
        },
        {
          "output_type": "display_data",
          "data": {
            "text/html": [
              "\n",
              "  <div id=\"ee4e5600-fd52-4b73-8aab-e1b7a799b90d\" data-root-id=\"p1001\" style=\"display: contents;\"></div>\n"
            ]
          },
          "metadata": {}
        },
        {
          "output_type": "display_data",
          "data": {
            "application/javascript": [
              "(function(root) {\n",
              "  function embed_document(root) {\n",
              "  const docs_json = {\"24ca14aa-2c67-432a-9623-48ff407ed99e\":{\"version\":\"3.4.3\",\"title\":\"Bokeh Application\",\"roots\":[{\"type\":\"object\",\"name\":\"Figure\",\"id\":\"p1001\",\"attributes\":{\"x_range\":{\"type\":\"object\",\"name\":\"Range1d\",\"id\":\"p1010\",\"attributes\":{\"end\":11}},\"y_range\":{\"type\":\"object\",\"name\":\"Range1d\",\"id\":\"p1011\",\"attributes\":{\"end\":17}},\"x_scale\":{\"type\":\"object\",\"name\":\"LinearScale\",\"id\":\"p1012\"},\"y_scale\":{\"type\":\"object\",\"name\":\"LinearScale\",\"id\":\"p1013\"},\"title\":{\"type\":\"object\",\"name\":\"Title\",\"id\":\"p1008\"},\"renderers\":[{\"type\":\"object\",\"name\":\"GlyphRenderer\",\"id\":\"p1026\",\"attributes\":{\"data_source\":{\"type\":\"object\",\"name\":\"ColumnDataSource\",\"id\":\"p1014\",\"attributes\":{\"selected\":{\"type\":\"object\",\"name\":\"Selection\",\"id\":\"p1015\",\"attributes\":{\"indices\":[],\"line_indices\":[]}},\"selection_policy\":{\"type\":\"object\",\"name\":\"UnionRenderers\",\"id\":\"p1016\"},\"data\":{\"type\":\"map\",\"entries\":[[\"image\",[{\"type\":\"ndarray\",\"array\":{\"type\":\"bytes\",\"data\":\"HaU2P8SPcjxuHY08vfWcOeh7Nz2XD+w8UhuAO3h4bzzcUVM716kiPgAAAAA+Xe8+efccOZ0fbDve+Dw3tLaEPHSNxj0pZCo92NT3PZvovTy2TGs+AAAAAE9/Dz9JeKY6AbmNPB3x9DdZSx09JtQKPULi7Ds9YyM+rOTVO711Mz4AAAAAUR1BP3pRxzxMA1U8iyyROeQOZjsQCbo8nBc8PKSVPD3XZ2E8+WHiPQAAAABuOAA/N3M5PBJAizvPCqU2rVpDOmwfUzy1SPI8BXwVPtrAOD0jQX8+AAAAADe9Nj0JGNw49HSdOUg/dzi/bvA7R0e5PdKAkD0W45I+NSySPuhQWz4AAAAA343FPGv8cTj5rzk5Xf4AN5l9JDo/Tf0741XeO9vGrj5SlVE+DTXUPgAAAABDUdI9foWvO1JCJTx9qtk5gJ00O4uOHzyy9Ik9NTmyPp4ETj68LoE+AAAAALWL9zzu6sE6JZkcOwV5wjdMdFo7vbYjPq8Azj68Thk+txRjPt5m7DwAAAAARrQ0OyKYUzrryPM6rgqdOZRpbj4ETQA/ZYT2PdAnkz0e0Eg9zt2bPAAAAAA+VFI7jh62OiM11zwRFRE7t/QuPwE7QD6bhwk9H2UrPbvjTDzqggA8AAAAAHTxbDxeh+o6AbcWPLsFCTzvUkI+BA6iPk7eUT42T9Y9MODHPUvsVz0AAAAAmzxZOzw3ljm9dro6asovOtmWoD515Rg+LlqpPmJaET532KQ8H7kdPQAAAAA7grU7JV8MO7gGjjzPaWQ8mkAKP0oQPj7fZ9s9buhrPRpHVj3bQ5Y8AAAAAJeTuTxsS6A8O1+rPRiyBT0wgLE+908XPm9HkT0uDK89I4MIPtmqaj0AAAAAO98mPQKQmjyw+tg8kpj2PVcy4T5NLhc+6ujNPd04FD0VrUA9IU22PAAAAABriyo4naj+M6DyQjbP7HswhClyOWUo3Ts8wX48eG9YPVZPKj2+DGI/AAAAAA==\"},\"shape\":[17,11],\"dtype\":\"float32\",\"order\":\"little\"}]]]}}},\"view\":{\"type\":\"object\",\"name\":\"CDSView\",\"id\":\"p1027\",\"attributes\":{\"filter\":{\"type\":\"object\",\"name\":\"AllIndices\",\"id\":\"p1028\"}}},\"glyph\":{\"type\":\"object\",\"name\":\"Image\",\"id\":\"p1017\",\"attributes\":{\"x\":{\"type\":\"value\",\"value\":0},\"y\":{\"type\":\"value\",\"value\":0},\"dw\":{\"type\":\"value\",\"value\":11},\"dh\":{\"type\":\"value\",\"value\":17},\"image\":{\"type\":\"field\",\"field\":\"image\"},\"color_mapper\":{\"type\":\"object\",\"name\":\"LinearColorMapper\",\"id\":\"p1018\",\"attributes\":{\"palette\":[\"#000000\",\"#252525\",\"#525252\",\"#737373\",\"#969696\",\"#bdbdbd\",\"#d9d9d9\",\"#f0f0f0\",\"#ffffff\"]}}}},\"nonselection_glyph\":{\"type\":\"object\",\"name\":\"Image\",\"id\":\"p1020\",\"attributes\":{\"x\":{\"type\":\"value\",\"value\":0},\"y\":{\"type\":\"value\",\"value\":0},\"dw\":{\"type\":\"value\",\"value\":11},\"dh\":{\"type\":\"value\",\"value\":17},\"global_alpha\":{\"type\":\"value\",\"value\":0.1},\"image\":{\"type\":\"field\",\"field\":\"image\"},\"color_mapper\":{\"type\":\"object\",\"name\":\"LinearColorMapper\",\"id\":\"p1021\",\"attributes\":{\"palette\":[\"#000000\",\"#252525\",\"#525252\",\"#737373\",\"#969696\",\"#bdbdbd\",\"#d9d9d9\",\"#f0f0f0\",\"#ffffff\"]}}}},\"muted_glyph\":{\"type\":\"object\",\"name\":\"Image\",\"id\":\"p1023\",\"attributes\":{\"x\":{\"type\":\"value\",\"value\":0},\"y\":{\"type\":\"value\",\"value\":0},\"dw\":{\"type\":\"value\",\"value\":11},\"dh\":{\"type\":\"value\",\"value\":17},\"global_alpha\":{\"type\":\"value\",\"value\":0.2},\"image\":{\"type\":\"field\",\"field\":\"image\"},\"color_mapper\":{\"type\":\"object\",\"name\":\"LinearColorMapper\",\"id\":\"p1024\",\"attributes\":{\"palette\":[\"#000000\",\"#252525\",\"#525252\",\"#737373\",\"#969696\",\"#bdbdbd\",\"#d9d9d9\",\"#f0f0f0\",\"#ffffff\"]}}}}}}],\"toolbar\":{\"type\":\"object\",\"name\":\"Toolbar\",\"id\":\"p1009\"},\"left\":[{\"type\":\"object\",\"name\":\"LinearAxis\",\"id\":\"p1034\",\"attributes\":{\"ticker\":{\"type\":\"object\",\"name\":\"FixedTicker\",\"id\":\"p1038\",\"attributes\":{\"ticks\":{\"type\":\"ndarray\",\"array\":{\"type\":\"bytes\",\"data\":\"AAAAAAAA4D8AAAAAAAD4PwAAAAAAAARAAAAAAAAADEAAAAAAAAASQAAAAAAAABZAAAAAAAAAGkAAAAAAAAAeQAAAAAAAACFAAAAAAAAAI0AAAAAAAAAlQAAAAAAAACdAAAAAAAAAKUAAAAAAAAArQAAAAAAAAC1AAAAAAAAAL0AAAAAAAIAwQA==\"},\"shape\":[17],\"dtype\":\"float64\",\"order\":\"little\"},\"minor_ticks\":[]}},\"formatter\":{\"type\":\"object\",\"name\":\"BasicTickFormatter\",\"id\":\"p1036\"},\"axis_label\":\"translation tokens\",\"major_label_overrides\":{\"type\":\"map\",\"entries\":[[0.5,\"_EOS_\"],[1.5,\".\"],[2.5,\"property\"],[3.5,\"the\"],[4.5,\"at\"],[5.5,\"kitchen\"],[6.5,\"shared\"],[7.5,\"a\"],[8.5,\"and\"],[9.5,\"kitchen\"],[10.5,\"shared\"],[11.5,\"the\"],[12.5,\"in\"],[13.5,\"cook\"],[14.5,\"can\"],[15.5,\"guests\"],[16.5,\"_BOS_\"]]},\"major_label_policy\":{\"type\":\"object\",\"name\":\"AllLabels\",\"id\":\"p1037\"}}}],\"above\":[{\"type\":\"object\",\"name\":\"LinearAxis\",\"id\":\"p1029\",\"attributes\":{\"ticker\":{\"type\":\"object\",\"name\":\"FixedTicker\",\"id\":\"p1033\",\"attributes\":{\"ticks\":{\"type\":\"ndarray\",\"array\":{\"type\":\"bytes\",\"data\":\"AAAAAAAA4D8AAAAAAAD4PwAAAAAAAARAAAAAAAAADEAAAAAAAAASQAAAAAAAABZAAAAAAAAAGkAAAAAAAAAeQAAAAAAAACFAAAAAAAAAI0AAAAAAAAAlQA==\"},\"shape\":[11],\"dtype\":\"float64\",\"order\":\"little\"},\"minor_ticks\":[]}},\"formatter\":{\"type\":\"object\",\"name\":\"BasicTickFormatter\",\"id\":\"p1031\"},\"axis_label\":\"source tokens\",\"major_label_orientation\":45,\"major_label_overrides\":{\"type\":\"map\",\"entries\":[[0.5,\"_BOS_\"],[1.5,\"\\u0432\"],[2.5,\"\\u0440\\u0430\\u0441\\u043f\\u043e\\u0440\\u044f\\u0436\\u0435\\u043d\\u0438\\u0438\"],[3.5,\"\\u0433\\u043e\\u0441\\u0442\\u0435\\u0439\"],[4.5,\"\\u043e\\u0431\\u0449\\u0430\\u044f\"],[5.5,\"\\u043a\\u0443\\u0445\\u043d\\u044f\"],[6.5,\"\\u0438\"],[7.5,\"\\u043e\\u0431\\u0449\\u0430\\u044f\"],[8.5,\"\\u0433\\u043e\\u0441\\u0442\\u0438\\u043d\\u0430\\u044f\"],[9.5,\".\"],[10.5,\"_EOS_\"]]},\"major_label_policy\":{\"type\":\"object\",\"name\":\"AllLabels\",\"id\":\"p1032\"}}}]}}]}};\n",
              "  const render_items = [{\"docid\":\"24ca14aa-2c67-432a-9623-48ff407ed99e\",\"roots\":{\"p1001\":\"ee4e5600-fd52-4b73-8aab-e1b7a799b90d\"},\"root_ids\":[\"p1001\"]}];\n",
              "  void root.Bokeh.embed.embed_items_notebook(docs_json, render_items);\n",
              "  }\n",
              "  if (root.Bokeh !== undefined) {\n",
              "    embed_document(root);\n",
              "  } else {\n",
              "    let attempts = 0;\n",
              "    const timer = setInterval(function(root) {\n",
              "      if (root.Bokeh !== undefined) {\n",
              "        clearInterval(timer);\n",
              "        embed_document(root);\n",
              "      } else {\n",
              "        attempts++;\n",
              "        if (attempts > 100) {\n",
              "          clearInterval(timer);\n",
              "          console.log(\"Bokeh: ERROR: Unable to run BokehJS code because BokehJS library is missing\");\n",
              "        }\n",
              "      }\n",
              "    }, 10, root)\n",
              "  }\n",
              "})(window);"
            ],
            "application/vnd.bokehjs_exec.v0+json": ""
          },
          "metadata": {
            "application/vnd.bokehjs_exec.v0+json": {
              "id": "p1001"
            }
          }
        },
        {
          "output_type": "display_data",
          "data": {
            "text/html": [
              "\n",
              "  <div id=\"a3b24cd2-54b1-4623-95d9-0519db5d92c0\" data-root-id=\"p1042\" style=\"display: contents;\"></div>\n"
            ]
          },
          "metadata": {}
        },
        {
          "output_type": "display_data",
          "data": {
            "application/javascript": [
              "(function(root) {\n",
              "  function embed_document(root) {\n",
              "  const docs_json = {\"e4ef11da-8d21-4530-828e-0f7df5fc676a\":{\"version\":\"3.4.3\",\"title\":\"Bokeh Application\",\"roots\":[{\"type\":\"object\",\"name\":\"Figure\",\"id\":\"p1042\",\"attributes\":{\"x_range\":{\"type\":\"object\",\"name\":\"Range1d\",\"id\":\"p1051\",\"attributes\":{\"end\":15}},\"y_range\":{\"type\":\"object\",\"name\":\"Range1d\",\"id\":\"p1052\",\"attributes\":{\"end\":15}},\"x_scale\":{\"type\":\"object\",\"name\":\"LinearScale\",\"id\":\"p1053\"},\"y_scale\":{\"type\":\"object\",\"name\":\"LinearScale\",\"id\":\"p1054\"},\"title\":{\"type\":\"object\",\"name\":\"Title\",\"id\":\"p1049\"},\"renderers\":[{\"type\":\"object\",\"name\":\"GlyphRenderer\",\"id\":\"p1067\",\"attributes\":{\"data_source\":{\"type\":\"object\",\"name\":\"ColumnDataSource\",\"id\":\"p1055\",\"attributes\":{\"selected\":{\"type\":\"object\",\"name\":\"Selection\",\"id\":\"p1056\",\"attributes\":{\"indices\":[],\"line_indices\":[]}},\"selection_policy\":{\"type\":\"object\",\"name\":\"UnionRenderers\",\"id\":\"p1057\"},\"data\":{\"type\":\"map\",\"entries\":[[\"image\",[{\"type\":\"ndarray\",\"array\":{\"type\":\"bytes\",\"data\":\"fsRoPyVPCTsfpWE4MhHvOrZ8mzhTtIg4N8o1O1W0TTuAYjc6UWadOwS2+DoqQgI8+gDFPCRHKT0AAAAAVO2xPlo0Cj2k/j47mTI1PELvEDs3m+I6xcZBPRgYoDxr6Vc8iDBQPoazGjzu94Q8gQM6Pjmd4T0AAAAAUtDDO9zKLTjNkaE154ZnOCcSzDXzaB43yu65OVmWOzl69qw4nrq8OUO+ajr+UR09FKnzPt6Z9D4AAAAAhg6uPYP9Czu8zqU58hj7OktpJzmragY58e68OpIsBjtgJDY72/kYPE62uj1C9tg9vqe1PtyJrz4AAAAAVdzePX8osjtkOoQ5/6WhO0V6DTl19F05wIrdOt1J7ztKfvw7xFCvPTlFLj5vPiI9fcNjPi7+sD4AAAAAa1QOPbgUvjuWzGk4Vg7IO8zg0jnHwZQ7t5IWPrqDvT79w4Y8OCGTPsXDiz0W+ag66FqqPJmdFz0AAAAADkajPBc40jtMUXo6pZdsOxuUmzo4n3k8e7egPY58HT5c4T4+TgbiPriWZD3Y2rY75SMxPGKVpjwAAAAAdKwaPf2QDz2yzyM7y50LO+7rLDtSxrs8QH4nPksHGj5bXyQ93376PnUeKj0+/vw5spUpO7/tEzwAAAAA7cUIPmpzBj1T2KA88T2dPACY6Ty3iFY9I4/GPg+5KT6DayI88u8EPhLVBzyrkYo63kqKOyFP5jsAAAAAH4ZMPP9M/zvy+OE6a80YOwQaJju9z+s85GRbPqIU+z3l+gA+236qPvsSNj0uM2Y8OqcCPXIobj0AAAAAK6YRPNnyhDxNFhw8T2+vO4BaFzzVnFI8WcFEPnNuGj4ZxpA9uPHUPpVpeT3t7j88l4xwPCqUrDwAAAAAB4YoPUZuajw9AKo7sLulOzhRzjtLABA85LWZPXiDsj2LjO09kaKXPo8qUT74+K88dR9YPQ/bhz0AAAAAC/JhPA20rzwUQHY735s8PEl+nTvbqgY9h2zkPQAEFT7AhLM9lp4vPjqq9T0AXEg9lpihPVVdFz4AAAAAZPyWOuD/mjwePkg7zHPJPK1uQTyaT389P/qFPgYLST4MEQo9WHuZPgNkTj2HCNU720BhPOk/gzwAAAAACwFNOA/GETY0gvUuYyj4NGksoTJxB2E168t3OjDx8zd1yis3bjbLOi6oWjg/G+g4qx0QPelJdj8AAAAA\"},\"shape\":[15,15],\"dtype\":\"float32\",\"order\":\"little\"}]]]}}},\"view\":{\"type\":\"object\",\"name\":\"CDSView\",\"id\":\"p1068\",\"attributes\":{\"filter\":{\"type\":\"object\",\"name\":\"AllIndices\",\"id\":\"p1069\"}}},\"glyph\":{\"type\":\"object\",\"name\":\"Image\",\"id\":\"p1058\",\"attributes\":{\"x\":{\"type\":\"value\",\"value\":0},\"y\":{\"type\":\"value\",\"value\":0},\"dw\":{\"type\":\"value\",\"value\":15},\"dh\":{\"type\":\"value\",\"value\":15},\"image\":{\"type\":\"field\",\"field\":\"image\"},\"color_mapper\":{\"type\":\"object\",\"name\":\"LinearColorMapper\",\"id\":\"p1059\",\"attributes\":{\"palette\":[\"#000000\",\"#252525\",\"#525252\",\"#737373\",\"#969696\",\"#bdbdbd\",\"#d9d9d9\",\"#f0f0f0\",\"#ffffff\"]}}}},\"nonselection_glyph\":{\"type\":\"object\",\"name\":\"Image\",\"id\":\"p1061\",\"attributes\":{\"x\":{\"type\":\"value\",\"value\":0},\"y\":{\"type\":\"value\",\"value\":0},\"dw\":{\"type\":\"value\",\"value\":15},\"dh\":{\"type\":\"value\",\"value\":15},\"global_alpha\":{\"type\":\"value\",\"value\":0.1},\"image\":{\"type\":\"field\",\"field\":\"image\"},\"color_mapper\":{\"type\":\"object\",\"name\":\"LinearColorMapper\",\"id\":\"p1062\",\"attributes\":{\"palette\":[\"#000000\",\"#252525\",\"#525252\",\"#737373\",\"#969696\",\"#bdbdbd\",\"#d9d9d9\",\"#f0f0f0\",\"#ffffff\"]}}}},\"muted_glyph\":{\"type\":\"object\",\"name\":\"Image\",\"id\":\"p1064\",\"attributes\":{\"x\":{\"type\":\"value\",\"value\":0},\"y\":{\"type\":\"value\",\"value\":0},\"dw\":{\"type\":\"value\",\"value\":15},\"dh\":{\"type\":\"value\",\"value\":15},\"global_alpha\":{\"type\":\"value\",\"value\":0.2},\"image\":{\"type\":\"field\",\"field\":\"image\"},\"color_mapper\":{\"type\":\"object\",\"name\":\"LinearColorMapper\",\"id\":\"p1065\",\"attributes\":{\"palette\":[\"#000000\",\"#252525\",\"#525252\",\"#737373\",\"#969696\",\"#bdbdbd\",\"#d9d9d9\",\"#f0f0f0\",\"#ffffff\"]}}}}}}],\"toolbar\":{\"type\":\"object\",\"name\":\"Toolbar\",\"id\":\"p1050\"},\"left\":[{\"type\":\"object\",\"name\":\"LinearAxis\",\"id\":\"p1075\",\"attributes\":{\"ticker\":{\"type\":\"object\",\"name\":\"FixedTicker\",\"id\":\"p1079\",\"attributes\":{\"ticks\":{\"type\":\"ndarray\",\"array\":{\"type\":\"bytes\",\"data\":\"AAAAAAAA4D8AAAAAAAD4PwAAAAAAAARAAAAAAAAADEAAAAAAAAASQAAAAAAAABZAAAAAAAAAGkAAAAAAAAAeQAAAAAAAACFAAAAAAAAAI0AAAAAAAAAlQAAAAAAAACdAAAAAAAAAKUAAAAAAAAArQAAAAAAAAC1A\"},\"shape\":[15],\"dtype\":\"float64\",\"order\":\"little\"},\"minor_ticks\":[]}},\"formatter\":{\"type\":\"object\",\"name\":\"BasicTickFormatter\",\"id\":\"p1077\"},\"axis_label\":\"translation tokens\",\"major_label_overrides\":{\"type\":\"map\",\"entries\":[[0.5,\"_EOS_\"],[1.5,\".\"],[2.5,\"parking\"],[3.5,\"free\"],[4.5,\"and\"],[5.5,\"deliveries\"],[6.5,\"grocery\"],[7.5,\"include\"],[8.5,\"property\"],[9.5,\"the\"],[10.5,\"at\"],[11.5,\"offered\"],[12.5,\"facilities\"],[13.5,\"other\"],[14.5,\"_BOS_\"]]},\"major_label_policy\":{\"type\":\"object\",\"name\":\"AllLabels\",\"id\":\"p1078\"}}}],\"above\":[{\"type\":\"object\",\"name\":\"LinearAxis\",\"id\":\"p1070\",\"attributes\":{\"ticker\":{\"type\":\"object\",\"name\":\"FixedTicker\",\"id\":\"p1074\",\"attributes\":{\"ticks\":{\"type\":\"ndarray\",\"array\":{\"type\":\"bytes\",\"data\":\"AAAAAAAA4D8AAAAAAAD4PwAAAAAAAARAAAAAAAAADEAAAAAAAAASQAAAAAAAABZAAAAAAAAAGkAAAAAAAAAeQAAAAAAAACFAAAAAAAAAI0AAAAAAAAAlQAAAAAAAACdAAAAAAAAAKUAAAAAAAAArQAAAAAAAAC1A\"},\"shape\":[15],\"dtype\":\"float64\",\"order\":\"little\"},\"minor_ticks\":[]}},\"formatter\":{\"type\":\"object\",\"name\":\"BasicTickFormatter\",\"id\":\"p1072\"},\"axis_label\":\"source tokens\",\"major_label_orientation\":45,\"major_label_overrides\":{\"type\":\"map\",\"entries\":[[0.5,\"_BOS_\"],[1.5,\"\\u043a\\u0440\\u043e\\u043c\\u0435\"],[2.5,\"\\u0442\\u043e\\u0433\\u043e\"],[3.5,\",\"],[4.5,\"\\u043f\\u0440\\u0435\\u0434\\u043e\\u0441\\u0442\\u0430\\u0432\\u043b\\u044f\\u0435\\u0442\\u0441\\u044f\"],[5.5,\"\\u043f\\u0440\\u043e\\u043a\\u0430\\u0442\"],[6.5,\"\\u0432\\u0435\\u043b\\u043e\\u0441\\u0438\\u043f\\u0435\\u0434\\u043e\\u0432\"],[7.5,\",\"],[8.5,\"\\u0443\\u0441\\u043b\\u0443\\u0433\\u0438\"],[9.5,\"\\u0442\\u0440\\u0430\\u043d\\u0441\\u0444\\u0435\\u0440\\u0430\"],[10.5,\"\\u0438\"],[11.5,\"\\u0431\\u0435\\u0441\\u043f\\u043b\\u0430\\u0442\\u043d\\u0430\\u044f\"],[12.5,\"\\u043f\\u0430\\u0440\\u043a\\u043e\\u0432\\u043a\\u0430\"],[13.5,\".\"],[14.5,\"_EOS_\"]]},\"major_label_policy\":{\"type\":\"object\",\"name\":\"AllLabels\",\"id\":\"p1073\"}}}]}}]}};\n",
              "  const render_items = [{\"docid\":\"e4ef11da-8d21-4530-828e-0f7df5fc676a\",\"roots\":{\"p1042\":\"a3b24cd2-54b1-4623-95d9-0519db5d92c0\"},\"root_ids\":[\"p1042\"]}];\n",
              "  void root.Bokeh.embed.embed_items_notebook(docs_json, render_items);\n",
              "  }\n",
              "  if (root.Bokeh !== undefined) {\n",
              "    embed_document(root);\n",
              "  } else {\n",
              "    let attempts = 0;\n",
              "    const timer = setInterval(function(root) {\n",
              "      if (root.Bokeh !== undefined) {\n",
              "        clearInterval(timer);\n",
              "        embed_document(root);\n",
              "      } else {\n",
              "        attempts++;\n",
              "        if (attempts > 100) {\n",
              "          clearInterval(timer);\n",
              "          console.log(\"Bokeh: ERROR: Unable to run BokehJS code because BokehJS library is missing\");\n",
              "        }\n",
              "      }\n",
              "    }, 10, root)\n",
              "  }\n",
              "})(window);"
            ],
            "application/vnd.bokehjs_exec.v0+json": ""
          },
          "metadata": {
            "application/vnd.bokehjs_exec.v0+json": {
              "id": "p1042"
            }
          }
        },
        {
          "output_type": "display_data",
          "data": {
            "text/html": [
              "\n",
              "  <div id=\"db2df61a-6af9-4450-bc9e-22806da55a25\" data-root-id=\"p1083\" style=\"display: contents;\"></div>\n"
            ]
          },
          "metadata": {}
        },
        {
          "output_type": "display_data",
          "data": {
            "application/javascript": [
              "(function(root) {\n",
              "  function embed_document(root) {\n",
              "  const docs_json = {\"44321943-4e6a-4ab7-9728-4d3f0f74446a\":{\"version\":\"3.4.3\",\"title\":\"Bokeh Application\",\"roots\":[{\"type\":\"object\",\"name\":\"Figure\",\"id\":\"p1083\",\"attributes\":{\"x_range\":{\"type\":\"object\",\"name\":\"Range1d\",\"id\":\"p1092\",\"attributes\":{\"end\":13}},\"y_range\":{\"type\":\"object\",\"name\":\"Range1d\",\"id\":\"p1093\",\"attributes\":{\"end\":9}},\"x_scale\":{\"type\":\"object\",\"name\":\"LinearScale\",\"id\":\"p1094\"},\"y_scale\":{\"type\":\"object\",\"name\":\"LinearScale\",\"id\":\"p1095\"},\"title\":{\"type\":\"object\",\"name\":\"Title\",\"id\":\"p1090\"},\"renderers\":[{\"type\":\"object\",\"name\":\"GlyphRenderer\",\"id\":\"p1108\",\"attributes\":{\"data_source\":{\"type\":\"object\",\"name\":\"ColumnDataSource\",\"id\":\"p1096\",\"attributes\":{\"selected\":{\"type\":\"object\",\"name\":\"Selection\",\"id\":\"p1097\",\"attributes\":{\"indices\":[],\"line_indices\":[]}},\"selection_policy\":{\"type\":\"object\",\"name\":\"UnionRenderers\",\"id\":\"p1098\"},\"data\":{\"type\":\"map\",\"entries\":[[\"image\",[{\"type\":\"ndarray\",\"array\":{\"type\":\"bytes\",\"data\":\"Fgo2PyrC8Dzk0949ZI+cPXZJYj3xpyY7SeZvO2WOPTtA7rU6OI2POsBEuTpIrsU7AAAAAMMk8D6Hrs480rrdPYhaJj4ATeg9BWU9PFSrnzzxtwQ8CVr+O7Cb0Dz/tj48L+UZPQAAAADo05g9B4S4PRvxBT4PWVY91spyPM4/fTzMZsQ8JDg7PK/h1jouhHU7ERo1PVRwCT8AAAAAwevLN84lETbJE2A3mHy/OfxldToTQWM5bT2IOa9gZjfrino44a4mOf5Ffj+D0Zk7AAAAAAe5jz1LTOA7PqL1O8OzCTzT1ak9AJc1PGOctTvFkNk7zl3aPIJDxT7kO5M+BaHPPQAAAAAsm2c8r3gYO3LaqDsfV4Y+k8mQPq/EBD4Cdro9sh6uPcQzqDzo4Xg9eX37PHzofTwAAAAAaBO6OkkDnjtGoYI7vC+8PVY5Fz57c7I+ekVUPixGwT2xHYM9BUSiPOwL7jsa5BE8AAAAAKmCHjjwTVQ3SfFIOYfFgz3f2sk9HcOoPrpB7T6zSjA9UHTPOL3OBDnKjKQ4SEoEOgAAAAC10gU5qc1oM8mVVzXuZx09j2OFPvLMyD1B4IU+ObHzOaUePzHU+oA1MlwHPvG/VT4AAAAA\"},\"shape\":[9,13],\"dtype\":\"float32\",\"order\":\"little\"}]]]}}},\"view\":{\"type\":\"object\",\"name\":\"CDSView\",\"id\":\"p1109\",\"attributes\":{\"filter\":{\"type\":\"object\",\"name\":\"AllIndices\",\"id\":\"p1110\"}}},\"glyph\":{\"type\":\"object\",\"name\":\"Image\",\"id\":\"p1099\",\"attributes\":{\"x\":{\"type\":\"value\",\"value\":0},\"y\":{\"type\":\"value\",\"value\":0},\"dw\":{\"type\":\"value\",\"value\":13},\"dh\":{\"type\":\"value\",\"value\":9},\"image\":{\"type\":\"field\",\"field\":\"image\"},\"color_mapper\":{\"type\":\"object\",\"name\":\"LinearColorMapper\",\"id\":\"p1100\",\"attributes\":{\"palette\":[\"#000000\",\"#252525\",\"#525252\",\"#737373\",\"#969696\",\"#bdbdbd\",\"#d9d9d9\",\"#f0f0f0\",\"#ffffff\"]}}}},\"nonselection_glyph\":{\"type\":\"object\",\"name\":\"Image\",\"id\":\"p1102\",\"attributes\":{\"x\":{\"type\":\"value\",\"value\":0},\"y\":{\"type\":\"value\",\"value\":0},\"dw\":{\"type\":\"value\",\"value\":13},\"dh\":{\"type\":\"value\",\"value\":9},\"global_alpha\":{\"type\":\"value\",\"value\":0.1},\"image\":{\"type\":\"field\",\"field\":\"image\"},\"color_mapper\":{\"type\":\"object\",\"name\":\"LinearColorMapper\",\"id\":\"p1103\",\"attributes\":{\"palette\":[\"#000000\",\"#252525\",\"#525252\",\"#737373\",\"#969696\",\"#bdbdbd\",\"#d9d9d9\",\"#f0f0f0\",\"#ffffff\"]}}}},\"muted_glyph\":{\"type\":\"object\",\"name\":\"Image\",\"id\":\"p1105\",\"attributes\":{\"x\":{\"type\":\"value\",\"value\":0},\"y\":{\"type\":\"value\",\"value\":0},\"dw\":{\"type\":\"value\",\"value\":13},\"dh\":{\"type\":\"value\",\"value\":9},\"global_alpha\":{\"type\":\"value\",\"value\":0.2},\"image\":{\"type\":\"field\",\"field\":\"image\"},\"color_mapper\":{\"type\":\"object\",\"name\":\"LinearColorMapper\",\"id\":\"p1106\",\"attributes\":{\"palette\":[\"#000000\",\"#252525\",\"#525252\",\"#737373\",\"#969696\",\"#bdbdbd\",\"#d9d9d9\",\"#f0f0f0\",\"#ffffff\"]}}}}}}],\"toolbar\":{\"type\":\"object\",\"name\":\"Toolbar\",\"id\":\"p1091\"},\"left\":[{\"type\":\"object\",\"name\":\"LinearAxis\",\"id\":\"p1116\",\"attributes\":{\"ticker\":{\"type\":\"object\",\"name\":\"FixedTicker\",\"id\":\"p1120\",\"attributes\":{\"ticks\":{\"type\":\"ndarray\",\"array\":{\"type\":\"bytes\",\"data\":\"AAAAAAAA4D8AAAAAAAD4PwAAAAAAAARAAAAAAAAADEAAAAAAAAASQAAAAAAAABZAAAAAAAAAGkAAAAAAAAAeQAAAAAAAACFA\"},\"shape\":[9],\"dtype\":\"float64\",\"order\":\"little\"},\"minor_ticks\":[]}},\"formatter\":{\"type\":\"object\",\"name\":\"BasicTickFormatter\",\"id\":\"p1118\"},\"axis_label\":\"translation tokens\",\"major_label_overrides\":{\"type\":\"map\",\"entries\":[[0.5,\"_EOS_\"],[1.5,\".\"],[2.5,\"away\"],[3.5,\"km\"],[4.5,\"26\"],[5.5,\"is\"],[6.5,\"son\"],[7.5,\"corri@@\"],[8.5,\"_BOS_\"]]},\"major_label_policy\":{\"type\":\"object\",\"name\":\"AllLabels\",\"id\":\"p1119\"}}}],\"above\":[{\"type\":\"object\",\"name\":\"LinearAxis\",\"id\":\"p1111\",\"attributes\":{\"ticker\":{\"type\":\"object\",\"name\":\"FixedTicker\",\"id\":\"p1115\",\"attributes\":{\"ticks\":{\"type\":\"ndarray\",\"array\":{\"type\":\"bytes\",\"data\":\"AAAAAAAA4D8AAAAAAAD4PwAAAAAAAARAAAAAAAAADEAAAAAAAAASQAAAAAAAABZAAAAAAAAAGkAAAAAAAAAeQAAAAAAAACFAAAAAAAAAI0AAAAAAAAAlQAAAAAAAACdAAAAAAAAAKUA=\"},\"shape\":[13],\"dtype\":\"float64\",\"order\":\"little\"},\"minor_ticks\":[]}},\"formatter\":{\"type\":\"object\",\"name\":\"BasicTickFormatter\",\"id\":\"p1113\"},\"axis_label\":\"source tokens\",\"major_label_orientation\":45,\"major_label_overrides\":{\"type\":\"map\",\"entries\":[[0.5,\"_BOS_\"],[1.5,\"\\u0440\\u0430\\u0441\\u0441\\u0442\\u043e\\u044f\\u043d\\u0438\\u0435\"],[2.5,\"\\u0434\\u043e\"],[3.5,\"\\u0433\\u043e\\u0440\\u043e\\u0434\\u0430\"],[4.5,\"\\u043a\\u0438@@\"],[5.5,\"\\u0441\\u0441\\u0438@@\"],[6.5,\"\\u043c@@\"],[7.5,\"\\u043c\\u0438\"],[8.5,\"\\u0441\\u043e\\u0441\\u0442\\u0430\\u0432\\u043b\\u044f\\u0435\\u0442\"],[9.5,\"26\"],[10.5,\"\\u043a\\u043c\"],[11.5,\".\"],[12.5,\"_EOS_\"]]},\"major_label_policy\":{\"type\":\"object\",\"name\":\"AllLabels\",\"id\":\"p1114\"}}}]}}]}};\n",
              "  const render_items = [{\"docid\":\"44321943-4e6a-4ab7-9728-4d3f0f74446a\",\"roots\":{\"p1083\":\"db2df61a-6af9-4450-bc9e-22806da55a25\"},\"root_ids\":[\"p1083\"]}];\n",
              "  void root.Bokeh.embed.embed_items_notebook(docs_json, render_items);\n",
              "  }\n",
              "  if (root.Bokeh !== undefined) {\n",
              "    embed_document(root);\n",
              "  } else {\n",
              "    let attempts = 0;\n",
              "    const timer = setInterval(function(root) {\n",
              "      if (root.Bokeh !== undefined) {\n",
              "        clearInterval(timer);\n",
              "        embed_document(root);\n",
              "      } else {\n",
              "        attempts++;\n",
              "        if (attempts > 100) {\n",
              "          clearInterval(timer);\n",
              "          console.log(\"Bokeh: ERROR: Unable to run BokehJS code because BokehJS library is missing\");\n",
              "        }\n",
              "      }\n",
              "    }, 10, root)\n",
              "  }\n",
              "})(window);"
            ],
            "application/vnd.bokehjs_exec.v0+json": ""
          },
          "metadata": {
            "application/vnd.bokehjs_exec.v0+json": {
              "id": "p1083"
            }
          }
        },
        {
          "output_type": "display_data",
          "data": {
            "text/html": [
              "\n",
              "  <div id=\"e33cf544-355f-4a05-8a49-8f0841647ce4\" data-root-id=\"p1124\" style=\"display: contents;\"></div>\n"
            ]
          },
          "metadata": {}
        },
        {
          "output_type": "display_data",
          "data": {
            "application/javascript": [
              "(function(root) {\n",
              "  function embed_document(root) {\n",
              "  const docs_json = {\"63c906eb-6dfe-4860-8f83-c608a4e5bf1f\":{\"version\":\"3.4.3\",\"title\":\"Bokeh Application\",\"roots\":[{\"type\":\"object\",\"name\":\"Figure\",\"id\":\"p1124\",\"attributes\":{\"x_range\":{\"type\":\"object\",\"name\":\"Range1d\",\"id\":\"p1133\",\"attributes\":{\"end\":32}},\"y_range\":{\"type\":\"object\",\"name\":\"Range1d\",\"id\":\"p1134\",\"attributes\":{\"end\":37}},\"x_scale\":{\"type\":\"object\",\"name\":\"LinearScale\",\"id\":\"p1135\"},\"y_scale\":{\"type\":\"object\",\"name\":\"LinearScale\",\"id\":\"p1136\"},\"title\":{\"type\":\"object\",\"name\":\"Title\",\"id\":\"p1131\"},\"renderers\":[{\"type\":\"object\",\"name\":\"GlyphRenderer\",\"id\":\"p1149\",\"attributes\":{\"data_source\":{\"type\":\"object\",\"name\":\"ColumnDataSource\",\"id\":\"p1137\",\"attributes\":{\"selected\":{\"type\":\"object\",\"name\":\"Selection\",\"id\":\"p1138\",\"attributes\":{\"indices\":[],\"line_indices\":[]}},\"selection_policy\":{\"type\":\"object\",\"name\":\"UnionRenderers\",\"id\":\"p1139\"},\"data\":{\"type\":\"map\",\"entries\":[[\"image\",[{\"type\":\"ndarray\",\"array\":{\"type\":\"bytes\",\"data\":\"zjjvPWKFKjq/3ow4xFONORM+2DjuNcU5iDCuO80XsjlEc6s6t9vzOQS4Ajz7J4E7pBOlO5NnjTtpP3Y8Uy2KPGABHDzDM3E8lR5uPOyEvDv4k7A7ycxFPOsA0DzEkeg8ZVZXPZuwrDy8KiA9LbnjPIhPzTxc7yc+y2DAPgAAAACLXS49yS+aN9m0VTS+1K04KkRVOEcxlTkJ9mE6HTtUOfnYujlDt6E4HNL3OK5aGTlYqLs5D8V5OaLVIDgEDf43X8xFOZ5OkDqkrSA5Z1HqOKJ+2TigEp059ZBFOrb3oD1yUYw944d0PU6iAj3D3Yw9Q2G9Pe9iCz674NQ+AAAAAFwV4DtRpmQ2xh3cM0L9DTehXlA1T/b2NnR1KjpgRm43qCdJN4SlOzf15zc23zL6Ny+3oDcozYE3MUMeNcr7qTTPA6Q3Fz4zOajUHjcdiQI4zKH/NiM3vzjKSGE6aasnPjE75zw5B908oo4GPd/tqj3M/i0+bRA8PlXPmj4AAAAAXx9ePNXjRjhU1n03zwM0OA8MoDcJR3w4dWu2OeI0mzgZKK46Gz9eOf4n8jqU6d05JXmMO10bHTuAHYA7xx+tO1YBGDxu1bU7z5lDOg4cfzoldy46hgefOo7RBTyuuEw+KKR5PVOSuzxwzlY9ef5mPZEFZD2PeFQ+vUyRPgAAAAALxeM9cnS+Ok9lJzkiBoY40MUgN0AN/zhlFQ481NNWOk4JVTuPBM45rGyIO+RqmjpHKXw7EQEwPJTH1DzJmQE8q4PRPNVSGDxAJeE6rENDO7z3HjytfgY87jCuPNM1PD0iz7E8JN/mPXS5lz3oKeg9+TAvPljfjD0AyQg+AAAAAGgRyjl7pRc3TrPeM6nMSDismBo598VlNjdtujkK81A4tDDaOWCOkDmfdF85YI83OU9wPDjWvoQ4Hy+FN5D9bDlKGs87pO2FOuLDxDbQJZ069FZUO/utQD3tVFs/Wi7FOjky2Drcj5Y7bIZbO3EoVjqT7vQ6mX3GO6ODfj0AAAAAT6lSOmYJkDi6Qpk3EYwWOrlVJjnLT6446JR3O+LzrTqMSYA7EPGUOSMS/DuNswU6CkYzOukd9TlSLC0761m2PDLbMj5BXE89RtF0OsBcRzyzXpo9W1VkPkFTmz4oCFs8/zzDO15bmzzS2YQ8CsM1POnLkzwPyRE8f9G0PAAAAACuo/A2UtSFM05xjzSi7mk3MwX5NEXBCzVuIwQ44HyZNjnLRDf84lA1q8i6OEjd3DYdEE84xeU/OD25xzhnkiM5riKJPAXb6TlEDQ84la2WO6WCmT5wUBM/voPOPV9kUTn7jDE4pe2DOT54PTkmA4M3P2clOA2OsDinsUM6AAAAAJAPUjjFp4w2ky/6NGjZTzrH8Lc3XLwrN14nSjixKDA2ws4iNs134TXrphY4lGjXNhYulDnCJDM5IsyxOVtMSTlVG7U7nGVUOYTTUzgnbX09Xq1FPzUMED41Dok8lYRAOAdlMjaM8tw4UedeOdgCZzf/zZ04fvoqOdK2RjkAAAAAR8ofO2nY1DiGiAA4IDzqOhAlUjniLss5DsYWPHONGDtI2OQ7w0q5OZtKmTsSFkM6YIXPPGR2UTskn107gRwVOyajLzzwbkI7P7QVO3ABjD3N4sA+4ZbOPrV4WT2XTIY7IR8sOuGKqjt+LFM7iI3POf1IvTrwrBU7Mo/UOgAAAABwATU+qoTnOgB5LTkZYgE7NArzOOFriTqqjDI8KRCEOjsQGDwsJwQ6335QPHFmrjpULDg9XkMWPOTvizz6o507oPDXPIzEtzybQ2Y9wp8XPunmKj4jwpE9RzwBPbeFij0v4Yw7TV43PZnmjTxMdUQ7FQAePBDCwDsqHf88AAAAANFL7zya9a06xRpON7vZqDrZ5dA43DINO9NJLTwd9JY6OWACO8FvMTlN0g06BBGUOdbcETuHRRs6MFEeOrJDVTvBbKE7Hb50PRK9Szzodzk7mErkOsPeqDy+JDE8ipzzPV5Nbz0cnq8+7WCzPdpqID0rJow94BdTPQ22gz0AAAAAQ2EKO8KXKzrp4UQ3/IpuOfjFVzfBAmI5fwDJOrOfVTkgL3U747L4OVZfgTuKcSk5FnI0Owh+djsulog79ok5OjPDFz3LyEw95I2kOT4ByztRSyU8w6FlPP5Kcj2seGo944YKPAtbwz205oQ9Ko5LPX63aT0aAAE+TvitPgAAAACH3FQ9tqGWOYyDgjc1PWY6y6AuOQeq3TmH/LY7De/JOTIklTsaSb85XYPFO4nQhjvhIJQ9EVKLPSv1QT5Sxsc93OfvPdpwnz2ium87XmR/PNs4Ij01yIU9I7x1PeAiGD2zJUQ9VAhYOzxI3zvqMho6kEafOhvswzvouIE8AAAAAKVK5Dp4cn84zW+NNn+y6jdSD0U2TMW1N8KA8DqsNiQ5uNYGO8D/DTnu0hE8yUegOtNmNjvk67k6LeawPQOy7T16W9o+1QD0Pb2YODq/J+k7NXybPHleLj5hFIw8Zq+RO+GP/Dt4DB06mm9SOoUjjzmHwxw6vG5sOjoYBzsAAAAA+OYNO6cRMjirgl42aWdBN3emEjYIHZg4yeutO5N8bzmegKw77H+qOu5xxDxrH008HBvVPYsWSD6Yjok+yQ4iPQHGKD4XY7I94VWiOjdIlDuuti494PoOPbHM7jp9fR87ohdkOmBpNDlbntg4i6iKOHYvLTlFVdI4cnLlOQAAAACxrIc7I58wOBTszTZ3TGk59aw/OO1UEznpEbc6ecFsOW87Cjyr+k87pdiqPTO2BD2G430+U3SePvVTVT1vxbQ8w8WJPfk8MD03r5A6DvD2O17tvz2u3Uw89/ixO9FPHzuwL5s5kNiQODtxXTowDqw4gZlbOHI6cDnGnEQ5AAAAAO2sODxP2sY3B7+zNcB1EDh8fMM3GkoxOREaNDyvasU76Q/5PaOiXD2wG9A+Az4APpTr5zzgdww+2d2tPMOeVTzeFMY8cInpPNABzDi0c/o4pn+JOuajMDrirGg73IR6Oxa10zpsF5o5678jObyRDTn97wM5jV+4OF4t+zgAAAAAvpMcONFweTVpsQkz8ehvNXZ3ATMoJO01c/UkPBNnlzv+rGg+iO8sPj1yCT6zENQ++C6NOiPMKjzUc6Q6JPWCO1Gpizy5Q9Q7Q5wzNpI4WzfysY03M8emN1dUpTeJlfU44HiNOBvJBThy+NI3DRMcOFvt5Td/cME3TWmSOAAAAADzzcs7BtinOuykzTp1Opw74dryOvmKtTuahFE9sBkwPbtazj2L8+U9APIQPo4bFj7hkCg+xmUsPghnETzu4bU791cMPP5B/zuQJiw7cMkQO0bwuDuTMQw7IdXrOjNMljrDqmY6Zh1/OskyJjqhPrk5CfGZOYmCCDpfr/g5AAAAAMf8vjzEdX08AwANO6l4mTvDXZw6SP4CPRKc8z2gRB49wwNpPidlDT118hs+alFxPek9pT0v1sc9RjJdO9iwzDsHYW08fWmBPCrarjqihCU7V7WXPFU/fTwBcrM7+t3LO6PPPzu7XhE8GVIqO6nGGztSzTY7YMPOOjaPwzoAAAAA8XovOtpRCThMRF41g3jEO8UGIzzEkLI7KG8oPsdKkT3Fw0o+DXAXPKWLiz1t/m475xydO4dZejsDStA6VE3lPBdRkj6B07Y9WvYAOitLvjq7w9M6Q0d0PB4OeDyUlEU7aDUWO399GjoNI0s5pX83Oa0AuzmFLwU7lucBPAAAAABvT8w7TTeQO99XpjoVj7Y8S4u/O57l8zwaiRs+nDJxPeVFqj7aVUk90Y7CPdQuojvgA7Y8KjcWPAS7rzsR5ME8MXpgPdblhD17s4o6UtUgO6qkqzqtAsw72KB2PEitZTxuqQ08N7nzOnrIszoe6Ec6BCqROt7l2zrc+gg7AAAAAEsafTusnhQ5iEeaOBDb8DoUa445vt28O4jrYj0rmSo9qqlEPiDCGz72T4E+2PY0PunWHTwXyLs8nOQGPOTbUzwSyeo89/aEPPQjyznnCr46MiRrO82I5zuJFgc7TtkdOnLquDpD6NE5pjc3OSVtazkTB5858/eHOS+6hDoAAAAAyfWYOX82QTdpAYM1gV5OOTEYTziPwQM6UrYfPirM4T3jtPk+j5CuPaGcRD2gN608EZULO9SdET0001E7zCA6O4cBrTxtRTs71fm3OcTShjri3ds7FE4oPJqShzphz8g5qHKsOJq6MzpXG8M5o32uOb0L9znaLf4588o+OgAAAAAPIyo7huCiOnccQjq3EAU9NDV4OxZygDxlapA+OtANPkcOHT4F1Uw9RnyQPWFunzzAuZU9XOSdPD502Dvy3D870GKlOzMHjzv0qlA7sqa+PJlkgT08iKE89JTHO/oZ+TlgRTs5KalbOn1vtDkwdxU5u/piOZ5yYTm3n7E5AAAAAHyukDzl46w6DhBAOjeEvz1LWuQ8Pve1PajXsD7IhEc+CXggPom/CD3CR6479ZLtO+y3Rjx2Ebs7svRzOYYOHTkFt3M5K9MSOiYVAjpDvTk6pvDcOUozATrlNP46KUIYOgqrdznILlM6lmUeOolbkzkhjCo6otwjOmNrmTkAAAAAv55YO2w8mDpPKvs6qaDxPIA7Vzyapx89eNRFPvbnTT7RqAk+FlXsPX5sVzxjZpQ9W1dIPR0MzT3bfXk66BRLO9JObDvWkvY7+r8+O2j2LjsvHj47BiO1OmhyeTouNN05yqZ2Od/zQjueaa06yDNJOq1kJjqrJxg6CQisOQAAAADuzXA8g4bJOtPeiztIxGM9zPVLPfU2xT0EDRA+wCErPu7nKD5Qo7o9TGmAPZXpXT2+R+Q8nDGqPF0xEDuWPQY7WICbO3JagDtT63U7SY2oOxeWTTxw/9g7aK2uOpu7zznnu7s5yrsoOx0iTjqkMxY67tEROrT4GDoLxIo5AAAAAONRZztd1uM6xWIdO4Bd/T1epeU9+anCPXvrBD4l3C8+OxY+Pu3MmD2eMQU9eRScPBBzdjxtO9g7E3U0Ovr8szq2VYg7zBW8O7d+xDq5sLo6Kd6GO/qPejuK94c6zKHkOZ0yHTkykVU6bqijOTFlPDm85oA50qKcOTFNEjkAAAAAMpk9O30hnTvUGI45cGgWPjYDDz6zqUs9tPy1Po4BtD09jx89X6+cPJ1+1Dt1Ne47jOxZPelskDzewVU6RpyfOdylmTsZCrM7ELr7OYMtoztfPb07r0clPN+/zjtKF7A7QMaYOSb0BjzkXGg7HoIVOy6uaDvSUqM7104qOwAAAAAm+Ho9MJFAPOxhuTs8+h0+r/IOPuorPz1yg809nTWkPTqwOj70vf88sK/5PDbvJzyLTxo91XmQPA7y/DvoN0o7rsoAPAOL4zsjM107hpcrPP34ajyxnAk8XyQgPHYhZjvDhmw7ZQd4OyLPUzvJzIo6zqXPOk8IdTp3EoE6AAAAAMqWsDkAxpY5G8tTOKBygz0b2647vhmKPNkh+j7wgqI9rFB6O+5ysztPrDY6O3QVO9znmzjdl4g4MPtMN2/vizegHbo537T7OXacmjlLXHg7pJyfOwssmTtxeYY7UE8APIb5SDmU+Zk9pcKSPQCmET1I8Dk9fv/+PCDqQD0AAAAArthFOqjGCDzZbMM8Zw/QPXyDET2u55480AUbPi+Xij1rOeE9wtrPPPWpkT3lfck8cP4uPHf/GDwWYw88HjAPO+w9RzzP8/k70B9CO8VUVT3XCNM9wHGvPfyRrTzuAZc7rZ6XOltLBjy+MOo7nNjsOwqOITzn0no7zxowOwAAAAAN4N85rA9bOkVzkzqIzyo9+hTePAIPcjxxIow+vC8hPiYwOj6P8jA9Sap1PAAQADx6LWA7riRJO61HuDqQL0Y7JSHLPKSxBT0c8lw8rJUJPWWQGz19ip08KSB+PLFsBjxwsZE7p/JnPBbZUTtkTBc7E0uiO4ssDjsIbPU7AAAAAFI4mztgxPI8C4zwO6oY0D2U8Bk9bPvhPbmhgD5ZZho+yKyKPb594zztywI960tSPAlGFz2w2BY8JgMtPGX1DTvGzYw8aEdJPGtOxDtZhhQ8ZLAqPN7E5Ts3yyU8z8QuPJqrITsbr+U7sFb+OjYXKDuyNEY75LRAOyOMoTsAAAAAftm2MSYmMjExBSgsUfLwNe9xJTPbvWEzKAueOlr7sTYJUPo2qLolNZcPvTdHkDk3oEpVNkDNDzgIX+43wTZ1OD1vIDvHA0I7dWFcNXL6LDfo01U34qHUNoAz1ziYkpI+xfiqO9uz9jxtunw+1C5dPWFs1zyy2yg+Esc3PgAAAAA=\"},\"shape\":[37,32],\"dtype\":\"float32\",\"order\":\"little\"}]]]}}},\"view\":{\"type\":\"object\",\"name\":\"CDSView\",\"id\":\"p1150\",\"attributes\":{\"filter\":{\"type\":\"object\",\"name\":\"AllIndices\",\"id\":\"p1151\"}}},\"glyph\":{\"type\":\"object\",\"name\":\"Image\",\"id\":\"p1140\",\"attributes\":{\"x\":{\"type\":\"value\",\"value\":0},\"y\":{\"type\":\"value\",\"value\":0},\"dw\":{\"type\":\"value\",\"value\":32},\"dh\":{\"type\":\"value\",\"value\":37},\"image\":{\"type\":\"field\",\"field\":\"image\"},\"color_mapper\":{\"type\":\"object\",\"name\":\"LinearColorMapper\",\"id\":\"p1141\",\"attributes\":{\"palette\":[\"#000000\",\"#252525\",\"#525252\",\"#737373\",\"#969696\",\"#bdbdbd\",\"#d9d9d9\",\"#f0f0f0\",\"#ffffff\"]}}}},\"nonselection_glyph\":{\"type\":\"object\",\"name\":\"Image\",\"id\":\"p1143\",\"attributes\":{\"x\":{\"type\":\"value\",\"value\":0},\"y\":{\"type\":\"value\",\"value\":0},\"dw\":{\"type\":\"value\",\"value\":32},\"dh\":{\"type\":\"value\",\"value\":37},\"global_alpha\":{\"type\":\"value\",\"value\":0.1},\"image\":{\"type\":\"field\",\"field\":\"image\"},\"color_mapper\":{\"type\":\"object\",\"name\":\"LinearColorMapper\",\"id\":\"p1144\",\"attributes\":{\"palette\":[\"#000000\",\"#252525\",\"#525252\",\"#737373\",\"#969696\",\"#bdbdbd\",\"#d9d9d9\",\"#f0f0f0\",\"#ffffff\"]}}}},\"muted_glyph\":{\"type\":\"object\",\"name\":\"Image\",\"id\":\"p1146\",\"attributes\":{\"x\":{\"type\":\"value\",\"value\":0},\"y\":{\"type\":\"value\",\"value\":0},\"dw\":{\"type\":\"value\",\"value\":32},\"dh\":{\"type\":\"value\",\"value\":37},\"global_alpha\":{\"type\":\"value\",\"value\":0.2},\"image\":{\"type\":\"field\",\"field\":\"image\"},\"color_mapper\":{\"type\":\"object\",\"name\":\"LinearColorMapper\",\"id\":\"p1147\",\"attributes\":{\"palette\":[\"#000000\",\"#252525\",\"#525252\",\"#737373\",\"#969696\",\"#bdbdbd\",\"#d9d9d9\",\"#f0f0f0\",\"#ffffff\"]}}}}}}],\"toolbar\":{\"type\":\"object\",\"name\":\"Toolbar\",\"id\":\"p1132\"},\"left\":[{\"type\":\"object\",\"name\":\"LinearAxis\",\"id\":\"p1157\",\"attributes\":{\"ticker\":{\"type\":\"object\",\"name\":\"FixedTicker\",\"id\":\"p1161\",\"attributes\":{\"ticks\":{\"type\":\"ndarray\",\"array\":{\"type\":\"bytes\",\"data\":\"AAAAAAAA4D8AAAAAAAD4PwAAAAAAAARAAAAAAAAADEAAAAAAAAASQAAAAAAAABZAAAAAAAAAGkAAAAAAAAAeQAAAAAAAACFAAAAAAAAAI0AAAAAAAAAlQAAAAAAAACdAAAAAAAAAKUAAAAAAAAArQAAAAAAAAC1AAAAAAAAAL0AAAAAAAIAwQAAAAAAAgDFAAAAAAACAMkAAAAAAAIAzQAAAAAAAgDRAAAAAAACANUAAAAAAAIA2QAAAAAAAgDdAAAAAAACAOEAAAAAAAIA5QAAAAAAAgDpAAAAAAACAO0AAAAAAAIA8QAAAAAAAgD1AAAAAAACAPkAAAAAAAIA/QAAAAAAAQEBAAAAAAADAQEAAAAAAAEBBQAAAAAAAwEFAAAAAAABAQkA=\"},\"shape\":[37],\"dtype\":\"float64\",\"order\":\"little\"},\"minor_ticks\":[]}},\"formatter\":{\"type\":\"object\",\"name\":\"BasicTickFormatter\",\"id\":\"p1159\"},\"axis_label\":\"translation tokens\",\"major_label_overrides\":{\"type\":\"map\",\"entries\":[[0.5,\"_EOS_\"],[1.5,\".\"],[2.5,\"beach\"],[3.5,\"the\"],[4.5,\"from\"],[5.5,\"walk\"],[6.5,\"minute\"],[7.5,\"-\"],[8.5,\"5\"],[9.5,\"a\"],[10.5,\"is\"],[11.5,\"beach\"],[12.5,\"nearest\"],[13.5,\"the\"],[14.5,\".\"],[15.5,\"terrace\"],[16.5,\"a\"],[17.5,\"and\"],[18.5,\"conditioning\"],[19.5,\"air\"],[20.5,\"with\"],[21.5,\"accommodation\"],[22.5,\"catering\"],[23.5,\"-\"],[24.5,\"self\"],[25.5,\"a\"],[26.5,\"offers\"],[27.5,\"island\"],[28.5,\"mer@@\"],[29.5,\"pal@@\"],[30.5,\"el\"],[31.5,\"villa\"],[32.5,\",\"],[33.5,\"mallorca\"],[34.5,\"in\"],[35.5,\"located\"],[36.5,\"_BOS_\"]]},\"major_label_policy\":{\"type\":\"object\",\"name\":\"AllLabels\",\"id\":\"p1160\"}}}],\"above\":[{\"type\":\"object\",\"name\":\"LinearAxis\",\"id\":\"p1152\",\"attributes\":{\"ticker\":{\"type\":\"object\",\"name\":\"FixedTicker\",\"id\":\"p1156\",\"attributes\":{\"ticks\":{\"type\":\"ndarray\",\"array\":{\"type\":\"bytes\",\"data\":\"AAAAAAAA4D8AAAAAAAD4PwAAAAAAAARAAAAAAAAADEAAAAAAAAASQAAAAAAAABZAAAAAAAAAGkAAAAAAAAAeQAAAAAAAACFAAAAAAAAAI0AAAAAAAAAlQAAAAAAAACdAAAAAAAAAKUAAAAAAAAArQAAAAAAAAC1AAAAAAAAAL0AAAAAAAIAwQAAAAAAAgDFAAAAAAACAMkAAAAAAAIAzQAAAAAAAgDRAAAAAAACANUAAAAAAAIA2QAAAAAAAgDdAAAAAAACAOEAAAAAAAIA5QAAAAAAAgDpAAAAAAACAO0AAAAAAAIA8QAAAAAAAgD1AAAAAAACAPkAAAAAAAIA/QA==\"},\"shape\":[32],\"dtype\":\"float64\",\"order\":\"little\"},\"minor_ticks\":[]}},\"formatter\":{\"type\":\"object\",\"name\":\"BasicTickFormatter\",\"id\":\"p1154\"},\"axis_label\":\"source tokens\",\"major_label_orientation\":45,\"major_label_overrides\":{\"type\":\"map\",\"entries\":[[0.5,\"_BOS_\"],[1.5,\"\\u0430\\u043f\\u0430\\u0440\\u0442\\u0430\\u043c\\u0435\\u043d\\u0442\\u044b\"],[2.5,\"\\u0432\"],[3.5,\"\\u043f\\u0435\\u043d\\u0442@@\"],[4.5,\"\\u0445\\u0430\\u0443\\u0441\\u0435\"],[5.5,\"\\u0441\"],[6.5,\"\\u043e\\u0431\\u0449\\u0438\\u043c\"],[7.5,\"\\u043e\\u0442\\u043a\\u0440\\u044b\\u0442\\u044b\\u043c\"],[8.5,\"\\u0431\\u0430\\u0441\\u0441\\u0435\\u0439\\u043d\\u043e\\u043c\"],[9.5,\",\"],[10.5,\"\\u0441\\u0430\\u0434\\u043e\\u043c\"],[11.5,\",\"],[12.5,\"\\u043a\\u043e\\u043d\\u0434\\u0438\\u0446\\u0438\\u043e\\u043d\\u0435\\u0440\\u043e\\u043c\"],[13.5,\"\\u0438\"],[14.5,\"\\u0442\\u0435\\u0440\\u0440\\u0430\\u0441\\u043e\\u0439\"],[15.5,\"\\u0434\\u043b\\u044f\"],[16.5,\"\\u0437\\u0430\\u0433\\u0430\\u0440\\u0430\"],[17.5,\"\\u0440\\u0430\\u0441\\u043f\\u043e\\u043b\\u043e\\u0436\\u0435\\u043d\\u044b\"],[18.5,\"\\u0432\"],[19.5,\"5\"],[20.5,\"\\u043c\\u0438\\u043d\\u0443\\u0442\\u0430\\u0445\"],[21.5,\"\\u0445\\u043e\\u0434\\u044c\\u0431\\u044b\"],[22.5,\"\\u043e\\u0442\"],[23.5,\"\\u043f\\u043b\\u044f\\u0436\\u0430\"],[24.5,\"\\u043d\\u0430\"],[25.5,\"\\u043a\\u0443\\u0440\\u043e\\u0440\\u0442\\u0435\"],[26.5,\"\\u043a\\u0430@@\"],[27.5,\"\\u0431\\u043e\"],[28.5,\"-\"],[29.5,\"\\u0440\\u043e\\u0439\"],[30.5,\".\"],[31.5,\"_EOS_\"]]},\"major_label_policy\":{\"type\":\"object\",\"name\":\"AllLabels\",\"id\":\"p1155\"}}}]}}]}};\n",
              "  const render_items = [{\"docid\":\"63c906eb-6dfe-4860-8f83-c608a4e5bf1f\",\"roots\":{\"p1124\":\"e33cf544-355f-4a05-8a49-8f0841647ce4\"},\"root_ids\":[\"p1124\"]}];\n",
              "  void root.Bokeh.embed.embed_items_notebook(docs_json, render_items);\n",
              "  }\n",
              "  if (root.Bokeh !== undefined) {\n",
              "    embed_document(root);\n",
              "  } else {\n",
              "    let attempts = 0;\n",
              "    const timer = setInterval(function(root) {\n",
              "      if (root.Bokeh !== undefined) {\n",
              "        clearInterval(timer);\n",
              "        embed_document(root);\n",
              "      } else {\n",
              "        attempts++;\n",
              "        if (attempts > 100) {\n",
              "          clearInterval(timer);\n",
              "          console.log(\"Bokeh: ERROR: Unable to run BokehJS code because BokehJS library is missing\");\n",
              "        }\n",
              "      }\n",
              "    }, 10, root)\n",
              "  }\n",
              "})(window);"
            ],
            "application/vnd.bokehjs_exec.v0+json": ""
          },
          "metadata": {
            "application/vnd.bokehjs_exec.v0+json": {
              "id": "p1124"
            }
          }
        },
        {
          "output_type": "display_data",
          "data": {
            "text/html": [
              "\n",
              "  <div id=\"a0a2b79c-9824-48f1-afc9-e4628d988e5e\" data-root-id=\"p1165\" style=\"display: contents;\"></div>\n"
            ]
          },
          "metadata": {}
        },
        {
          "output_type": "display_data",
          "data": {
            "application/javascript": [
              "(function(root) {\n",
              "  function embed_document(root) {\n",
              "  const docs_json = {\"dd1f1ba3-18e1-4b32-b4f5-4b428cd7f069\":{\"version\":\"3.4.3\",\"title\":\"Bokeh Application\",\"roots\":[{\"type\":\"object\",\"name\":\"Figure\",\"id\":\"p1165\",\"attributes\":{\"x_range\":{\"type\":\"object\",\"name\":\"Range1d\",\"id\":\"p1174\",\"attributes\":{\"end\":23}},\"y_range\":{\"type\":\"object\",\"name\":\"Range1d\",\"id\":\"p1175\",\"attributes\":{\"end\":22}},\"x_scale\":{\"type\":\"object\",\"name\":\"LinearScale\",\"id\":\"p1176\"},\"y_scale\":{\"type\":\"object\",\"name\":\"LinearScale\",\"id\":\"p1177\"},\"title\":{\"type\":\"object\",\"name\":\"Title\",\"id\":\"p1172\"},\"renderers\":[{\"type\":\"object\",\"name\":\"GlyphRenderer\",\"id\":\"p1190\",\"attributes\":{\"data_source\":{\"type\":\"object\",\"name\":\"ColumnDataSource\",\"id\":\"p1178\",\"attributes\":{\"selected\":{\"type\":\"object\",\"name\":\"Selection\",\"id\":\"p1179\",\"attributes\":{\"indices\":[],\"line_indices\":[]}},\"selection_policy\":{\"type\":\"object\",\"name\":\"UnionRenderers\",\"id\":\"p1180\"},\"data\":{\"type\":\"map\",\"entries\":[[\"image\",[{\"type\":\"ndarray\",\"array\":{\"type\":\"bytes\",\"data\":\"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\"},\"shape\":[22,23],\"dtype\":\"float32\",\"order\":\"little\"}]]]}}},\"view\":{\"type\":\"object\",\"name\":\"CDSView\",\"id\":\"p1191\",\"attributes\":{\"filter\":{\"type\":\"object\",\"name\":\"AllIndices\",\"id\":\"p1192\"}}},\"glyph\":{\"type\":\"object\",\"name\":\"Image\",\"id\":\"p1181\",\"attributes\":{\"x\":{\"type\":\"value\",\"value\":0},\"y\":{\"type\":\"value\",\"value\":0},\"dw\":{\"type\":\"value\",\"value\":23},\"dh\":{\"type\":\"value\",\"value\":22},\"image\":{\"type\":\"field\",\"field\":\"image\"},\"color_mapper\":{\"type\":\"object\",\"name\":\"LinearColorMapper\",\"id\":\"p1182\",\"attributes\":{\"palette\":[\"#000000\",\"#252525\",\"#525252\",\"#737373\",\"#969696\",\"#bdbdbd\",\"#d9d9d9\",\"#f0f0f0\",\"#ffffff\"]}}}},\"nonselection_glyph\":{\"type\":\"object\",\"name\":\"Image\",\"id\":\"p1184\",\"attributes\":{\"x\":{\"type\":\"value\",\"value\":0},\"y\":{\"type\":\"value\",\"value\":0},\"dw\":{\"type\":\"value\",\"value\":23},\"dh\":{\"type\":\"value\",\"value\":22},\"global_alpha\":{\"type\":\"value\",\"value\":0.1},\"image\":{\"type\":\"field\",\"field\":\"image\"},\"color_mapper\":{\"type\":\"object\",\"name\":\"LinearColorMapper\",\"id\":\"p1185\",\"attributes\":{\"palette\":[\"#000000\",\"#252525\",\"#525252\",\"#737373\",\"#969696\",\"#bdbdbd\",\"#d9d9d9\",\"#f0f0f0\",\"#ffffff\"]}}}},\"muted_glyph\":{\"type\":\"object\",\"name\":\"Image\",\"id\":\"p1187\",\"attributes\":{\"x\":{\"type\":\"value\",\"value\":0},\"y\":{\"type\":\"value\",\"value\":0},\"dw\":{\"type\":\"value\",\"value\":23},\"dh\":{\"type\":\"value\",\"value\":22},\"global_alpha\":{\"type\":\"value\",\"value\":0.2},\"image\":{\"type\":\"field\",\"field\":\"image\"},\"color_mapper\":{\"type\":\"object\",\"name\":\"LinearColorMapper\",\"id\":\"p1188\",\"attributes\":{\"palette\":[\"#000000\",\"#252525\",\"#525252\",\"#737373\",\"#969696\",\"#bdbdbd\",\"#d9d9d9\",\"#f0f0f0\",\"#ffffff\"]}}}}}}],\"toolbar\":{\"type\":\"object\",\"name\":\"Toolbar\",\"id\":\"p1173\"},\"left\":[{\"type\":\"object\",\"name\":\"LinearAxis\",\"id\":\"p1198\",\"attributes\":{\"ticker\":{\"type\":\"object\",\"name\":\"FixedTicker\",\"id\":\"p1202\",\"attributes\":{\"ticks\":{\"type\":\"ndarray\",\"array\":{\"type\":\"bytes\",\"data\":\"AAAAAAAA4D8AAAAAAAD4PwAAAAAAAARAAAAAAAAADEAAAAAAAAASQAAAAAAAABZAAAAAAAAAGkAAAAAAAAAeQAAAAAAAACFAAAAAAAAAI0AAAAAAAAAlQAAAAAAAACdAAAAAAAAAKUAAAAAAAAArQAAAAAAAAC1AAAAAAAAAL0AAAAAAAIAwQAAAAAAAgDFAAAAAAACAMkAAAAAAAIAzQAAAAAAAgDRAAAAAAACANUA=\"},\"shape\":[22],\"dtype\":\"float64\",\"order\":\"little\"},\"minor_ticks\":[]}},\"formatter\":{\"type\":\"object\",\"name\":\"BasicTickFormatter\",\"id\":\"p1200\"},\"axis_label\":\"translation tokens\",\"major_label_overrides\":{\"type\":\"map\",\"entries\":[[0.5,\"_EOS_\"],[1.5,\".\"],[2.5,\"unit\"],[3.5,\"conditioned\"],[4.5,\"-\"],[5.5,\"air\"],[6.5,\"the\"],[7.5,\"from\"],[8.5,\"metres\"],[9.5,\"200\"],[10.5,\"located\"],[11.5,\"accommodation\"],[12.5,\"catering\"],[13.5,\"-\"],[14.5,\"self\"],[15.5,\"offers\"],[16.5,\"v\"],[17.5,\"den\"],[18.5,\"j\"],[19.5,\"d@@\"],[20.5,\"apartament\"],[21.5,\"_BOS_\"]]},\"major_label_policy\":{\"type\":\"object\",\"name\":\"AllLabels\",\"id\":\"p1201\"}}}],\"above\":[{\"type\":\"object\",\"name\":\"LinearAxis\",\"id\":\"p1193\",\"attributes\":{\"ticker\":{\"type\":\"object\",\"name\":\"FixedTicker\",\"id\":\"p1197\",\"attributes\":{\"ticks\":{\"type\":\"ndarray\",\"array\":{\"type\":\"bytes\",\"data\":\"AAAAAAAA4D8AAAAAAAD4PwAAAAAAAARAAAAAAAAADEAAAAAAAAASQAAAAAAAABZAAAAAAAAAGkAAAAAAAAAeQAAAAAAAACFAAAAAAAAAI0AAAAAAAAAlQAAAAAAAACdAAAAAAAAAKUAAAAAAAAArQAAAAAAAAC1AAAAAAAAAL0AAAAAAAIAwQAAAAAAAgDFAAAAAAACAMkAAAAAAAIAzQAAAAAAAgDRAAAAAAACANUAAAAAAAIA2QA==\"},\"shape\":[23],\"dtype\":\"float64\",\"order\":\"little\"},\"minor_ticks\":[]}},\"formatter\":{\"type\":\"object\",\"name\":\"BasicTickFormatter\",\"id\":\"p1195\"},\"axis_label\":\"source tokens\",\"major_label_orientation\":45,\"major_label_overrides\":{\"type\":\"map\",\"entries\":[[0.5,\"_BOS_\"],[1.5,\"\\u0430\\u043f\\u0430\\u0440\\u0442\\u0430\\u043c\\u0435\\u043d\\u0442\\u044b\"],[2.5,\"mo@@\"],[3.5,\"s@@\"],[4.5,\"co@@\"],[5.5,\"w\"],[6.5,\"point\"],[7.5,\"-\"],[8.5,\"loft\"],[9.5,\"red\"],[10.5,\"square\"],[11.5,\"\\u043d\\u0430\\u0445\\u043e\\u0434\\u044f\\u0442\\u0441\\u044f\"],[12.5,\"\\u0432\"],[13.5,\"\\u043c\\u043e\\u0441\\u043a\\u0432\\u0435\"],[14.5,\",\"],[15.5,\"\\u0432\"],[16.5,\"200\"],[17.5,\"\\u043c\\u0435\\u0442\\u0440\\u0430\\u0445\"],[18.5,\"\\u043e\\u0442\"],[19.5,\"\\u0431\\u043e\\u043b\\u044c\\u0448\\u043e\\u0433\\u043e\"],[20.5,\"\\u0442\\u0435\\u0430\\u0442\\u0440\\u0430\"],[21.5,\".\"],[22.5,\"_EOS_\"]]},\"major_label_policy\":{\"type\":\"object\",\"name\":\"AllLabels\",\"id\":\"p1196\"}}}]}}]}};\n",
              "  const render_items = [{\"docid\":\"dd1f1ba3-18e1-4b32-b4f5-4b428cd7f069\",\"roots\":{\"p1165\":\"a0a2b79c-9824-48f1-afc9-e4628d988e5e\"},\"root_ids\":[\"p1165\"]}];\n",
              "  void root.Bokeh.embed.embed_items_notebook(docs_json, render_items);\n",
              "  }\n",
              "  if (root.Bokeh !== undefined) {\n",
              "    embed_document(root);\n",
              "  } else {\n",
              "    let attempts = 0;\n",
              "    const timer = setInterval(function(root) {\n",
              "      if (root.Bokeh !== undefined) {\n",
              "        clearInterval(timer);\n",
              "        embed_document(root);\n",
              "      } else {\n",
              "        attempts++;\n",
              "        if (attempts > 100) {\n",
              "          clearInterval(timer);\n",
              "          console.log(\"Bokeh: ERROR: Unable to run BokehJS code because BokehJS library is missing\");\n",
              "        }\n",
              "      }\n",
              "    }, 10, root)\n",
              "  }\n",
              "})(window);"
            ],
            "application/vnd.bokehjs_exec.v0+json": ""
          },
          "metadata": {
            "application/vnd.bokehjs_exec.v0+json": {
              "id": "p1165"
            }
          }
        }
      ],
      "source": [
        "for i in range(5):\n",
        "    draw_attention(inp[i], trans[i], attention_probs[i])\n",
        "\n",
        "# Does it look fine already? don't forget to save images for anytask!"
      ]
    },
    {
      "cell_type": "markdown",
      "metadata": {
        "id": "7SmtA_mfsdjJ"
      },
      "source": [
        "__Note 1:__ If the attention maps are not iterpretable, try starting encoder from zeros (instead of dec_start), forcing model to use attention.\n",
        "\n",
        "__Note 2:__ If you're studying this course as a YSDA student, please submit __attention screenshots__ alongside your notebook."
      ]
    },
    {
      "cell_type": "markdown",
      "metadata": {
        "id": "pbIIngNVlrtt"
      },
      "source": [
        "## Goind deeper (2++ points each)\n",
        "\n",
        "We want you to find the best model for the task. Use everything you know.\n",
        "\n",
        "* different recurrent units: rnn/gru/lstm; deeper architectures\n",
        "* bidirectional encoder, different attention methods for decoder (additive, dot-product, multi-head)\n",
        "* word dropout, training schedules, anything you can imagine\n",
        "* replace greedy inference with beam search\n",
        "\n",
        "For a better grasp of seq2seq We recommend you to conduct at least one experiment from one of the bullet-points or your alternative ideas. As usual, describe what you tried and what results you obtained in a short report."
      ]
    },
    {
      "cell_type": "markdown",
      "metadata": {
        "collapsed": true,
        "id": "2rzAj_xtlrtt"
      },
      "source": [
        "`[your report/log here or anywhere you please]`"
      ]
    }
  ],
  "metadata": {
    "colab": {
      "collapsed_sections": [
        "edk_oVg0lrtW"
      ],
      "provenance": [],
      "gpuType": "T4"
    },
    "kernelspec": {
      "display_name": "Python 3",
      "name": "python3"
    },
    "language_info": {
      "codemirror_mode": {
        "name": "ipython",
        "version": 3
      },
      "file_extension": ".py",
      "mimetype": "text/x-python",
      "name": "python",
      "nbconvert_exporter": "python",
      "pygments_lexer": "ipython3",
      "version": "3.8.3"
    },
    "accelerator": "GPU"
  },
  "nbformat": 4,
  "nbformat_minor": 0
}