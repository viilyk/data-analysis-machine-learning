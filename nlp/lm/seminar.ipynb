{
 "cells": [
  {
   "cell_type": "markdown",
   "metadata": {
    "cellId": "k1gpzj4guo8e1riwj3om1k"
   },
   "source": [
    "### N-gram language models or how to write scientific papers (4 pts)\n",
    "\n",
    "We shall train our language model on a corpora of [ArXiv](http://arxiv.org/) articles and see if we can generate a new one!\n",
    "\n",
    "![img](https://media.npr.org/assets/img/2013/12/10/istock-18586699-monkey-computer_brick-16e5064d3378a14e0e4c2da08857efe03c04695e-s800-c85.jpg)\n",
    "\n",
    "_data by neelshah18 from [here](https://www.kaggle.com/neelshah18/arxivdataset/)_\n",
    "\n",
    "_Disclaimer: this has nothing to do with actual science. But it's fun, so who cares?!_"
   ]
  },
  {
   "cell_type": "code",
   "metadata": {
    "cellId": "u8jdaiy68oib3jvr4k01",
    "ExecuteTime": {
     "end_time": "2024-10-11T19:56:46.329463Z",
     "start_time": "2024-10-11T19:56:46.244441Z"
    }
   },
   "source": [
    "import numpy as np\n",
    "import pandas as pd\n",
    "import matplotlib.pyplot as plt\n",
    "%matplotlib inline"
   ],
   "outputs": [],
   "execution_count": 53
  },
  {
   "cell_type": "code",
   "metadata": {
    "cellId": "0c76vnyl3zui9yhtkodgrlf",
    "ExecuteTime": {
     "end_time": "2024-10-11T19:56:50.444998Z",
     "start_time": "2024-10-11T19:56:46.620053Z"
    }
   },
   "source": [
    "# Alternative manual download link: https://yadi.sk/d/_nGyU2IajjR9-w\n",
    "!wget \"https://www.dropbox.com/s/99az9n1b57qkd9j/arxivData.json.tar.gz?dl=1\" -O arxivData.json.tar.gz\n",
    "!tar -xvzf arxivData.json.tar.gz\n",
    "data = pd.read_json(\"./arxivData.json\")\n",
    "data.sample(n=5)"
   ],
   "outputs": [
    {
     "name": "stdout",
     "output_type": "stream",
     "text": [
      "zsh:1: command not found: wget\r\n",
      "x arxivData.json\r\n"
     ]
    },
    {
     "data": {
      "text/plain": [
       "                                                  author  day            id  \\\n",
       "20358                       [{'name': 'Vilem Vychodil'}]    5  1511.01640v1   \n",
       "13080  [{'name': 'Amar Shah'}, {'name': 'David A. Kno...   26  1506.08180v1   \n",
       "37224  [{'name': 'Yujie Qian'}, {'name': 'Yinpeng Don...   14  1611.04369v1   \n",
       "1958   [{'name': 'Tejas D. Kulkarni'}, {'name': 'Vika...    4   1407.1339v1   \n",
       "567    [{'name': 'Prasanna Kumar Muthukumar'}, {'name...   30   1409.8558v1   \n",
       "\n",
       "                                                    link  month  \\\n",
       "20358  [{'rel': 'related', 'href': 'http://dx.doi.org...     11   \n",
       "13080  [{'rel': 'alternate', 'href': 'http://arxiv.or...      6   \n",
       "37224  [{'rel': 'alternate', 'href': 'http://arxiv.or...     11   \n",
       "1958   [{'rel': 'alternate', 'href': 'http://arxiv.or...      7   \n",
       "567    [{'rel': 'alternate', 'href': 'http://arxiv.or...      9   \n",
       "\n",
       "                                                 summary  \\\n",
       "20358  In this paper we extend our previous results o...   \n",
       "13080  Stochastic variational inference (SVI) is emer...   \n",
       "37224  Measuring research impact and ranking academic...   \n",
       "1958   Recently, multiple formulations of vision prob...   \n",
       "567    Nearly all Statistical Parametric Speech Synth...   \n",
       "\n",
       "                                                     tag  \\\n",
       "20358  [{'term': 'cs.AI', 'scheme': 'http://arxiv.org...   \n",
       "13080  [{'term': 'stat.ML', 'scheme': 'http://arxiv.o...   \n",
       "37224  [{'term': 'cs.AI', 'scheme': 'http://arxiv.org...   \n",
       "1958   [{'term': 'cs.CV', 'scheme': 'http://arxiv.org...   \n",
       "567    [{'term': 'cs.CL', 'scheme': 'http://arxiv.org...   \n",
       "\n",
       "                                                   title  year  \n",
       "20358  Computing sets of graded attribute implication...  2015  \n",
       "13080  An Empirical Study of Stochastic Variational A...  2015  \n",
       "37224  Feature Engineering and Ensemble Modeling for ...  2016  \n",
       "1958      Inverse Graphics with Probabilistic CAD Models  2014  \n",
       "567    A Deep Learning Approach to Data-driven Parame...  2014  "
      ],
      "text/html": [
       "<div>\n",
       "<style scoped>\n",
       "    .dataframe tbody tr th:only-of-type {\n",
       "        vertical-align: middle;\n",
       "    }\n",
       "\n",
       "    .dataframe tbody tr th {\n",
       "        vertical-align: top;\n",
       "    }\n",
       "\n",
       "    .dataframe thead th {\n",
       "        text-align: right;\n",
       "    }\n",
       "</style>\n",
       "<table border=\"1\" class=\"dataframe\">\n",
       "  <thead>\n",
       "    <tr style=\"text-align: right;\">\n",
       "      <th></th>\n",
       "      <th>author</th>\n",
       "      <th>day</th>\n",
       "      <th>id</th>\n",
       "      <th>link</th>\n",
       "      <th>month</th>\n",
       "      <th>summary</th>\n",
       "      <th>tag</th>\n",
       "      <th>title</th>\n",
       "      <th>year</th>\n",
       "    </tr>\n",
       "  </thead>\n",
       "  <tbody>\n",
       "    <tr>\n",
       "      <th>20358</th>\n",
       "      <td>[{'name': 'Vilem Vychodil'}]</td>\n",
       "      <td>5</td>\n",
       "      <td>1511.01640v1</td>\n",
       "      <td>[{'rel': 'related', 'href': 'http://dx.doi.org...</td>\n",
       "      <td>11</td>\n",
       "      <td>In this paper we extend our previous results o...</td>\n",
       "      <td>[{'term': 'cs.AI', 'scheme': 'http://arxiv.org...</td>\n",
       "      <td>Computing sets of graded attribute implication...</td>\n",
       "      <td>2015</td>\n",
       "    </tr>\n",
       "    <tr>\n",
       "      <th>13080</th>\n",
       "      <td>[{'name': 'Amar Shah'}, {'name': 'David A. Kno...</td>\n",
       "      <td>26</td>\n",
       "      <td>1506.08180v1</td>\n",
       "      <td>[{'rel': 'alternate', 'href': 'http://arxiv.or...</td>\n",
       "      <td>6</td>\n",
       "      <td>Stochastic variational inference (SVI) is emer...</td>\n",
       "      <td>[{'term': 'stat.ML', 'scheme': 'http://arxiv.o...</td>\n",
       "      <td>An Empirical Study of Stochastic Variational A...</td>\n",
       "      <td>2015</td>\n",
       "    </tr>\n",
       "    <tr>\n",
       "      <th>37224</th>\n",
       "      <td>[{'name': 'Yujie Qian'}, {'name': 'Yinpeng Don...</td>\n",
       "      <td>14</td>\n",
       "      <td>1611.04369v1</td>\n",
       "      <td>[{'rel': 'alternate', 'href': 'http://arxiv.or...</td>\n",
       "      <td>11</td>\n",
       "      <td>Measuring research impact and ranking academic...</td>\n",
       "      <td>[{'term': 'cs.AI', 'scheme': 'http://arxiv.org...</td>\n",
       "      <td>Feature Engineering and Ensemble Modeling for ...</td>\n",
       "      <td>2016</td>\n",
       "    </tr>\n",
       "    <tr>\n",
       "      <th>1958</th>\n",
       "      <td>[{'name': 'Tejas D. Kulkarni'}, {'name': 'Vika...</td>\n",
       "      <td>4</td>\n",
       "      <td>1407.1339v1</td>\n",
       "      <td>[{'rel': 'alternate', 'href': 'http://arxiv.or...</td>\n",
       "      <td>7</td>\n",
       "      <td>Recently, multiple formulations of vision prob...</td>\n",
       "      <td>[{'term': 'cs.CV', 'scheme': 'http://arxiv.org...</td>\n",
       "      <td>Inverse Graphics with Probabilistic CAD Models</td>\n",
       "      <td>2014</td>\n",
       "    </tr>\n",
       "    <tr>\n",
       "      <th>567</th>\n",
       "      <td>[{'name': 'Prasanna Kumar Muthukumar'}, {'name...</td>\n",
       "      <td>30</td>\n",
       "      <td>1409.8558v1</td>\n",
       "      <td>[{'rel': 'alternate', 'href': 'http://arxiv.or...</td>\n",
       "      <td>9</td>\n",
       "      <td>Nearly all Statistical Parametric Speech Synth...</td>\n",
       "      <td>[{'term': 'cs.CL', 'scheme': 'http://arxiv.org...</td>\n",
       "      <td>A Deep Learning Approach to Data-driven Parame...</td>\n",
       "      <td>2014</td>\n",
       "    </tr>\n",
       "  </tbody>\n",
       "</table>\n",
       "</div>"
      ]
     },
     "execution_count": 54,
     "metadata": {},
     "output_type": "execute_result"
    }
   ],
   "execution_count": 54
  },
  {
   "cell_type": "code",
   "metadata": {
    "cellId": "lbyqb5rx7j8jpo591r06ak",
    "ExecuteTime": {
     "end_time": "2024-10-11T19:56:51.850871Z",
     "start_time": "2024-10-11T19:56:50.449282Z"
    }
   },
   "source": [
    "# assemble lines: concatenate title and description\n",
    "lines = data.apply(lambda row: row['title'] + ' ; ' + row['summary'].replace(\"\\n\", ' '), axis=1).tolist()\n",
    "\n",
    "sorted(lines, key=len)[:3]"
   ],
   "outputs": [
    {
     "data": {
      "text/plain": [
       "['Differential Contrastive Divergence ; This paper has been retracted.',\n",
       " 'What Does Artificial Life Tell Us About Death? ; Short philosophical essay',\n",
       " 'P=NP ; We claim to resolve the P=?NP problem via a formal argument for P=NP.']"
      ]
     },
     "execution_count": 55,
     "metadata": {},
     "output_type": "execute_result"
    }
   ],
   "execution_count": 55
  },
  {
   "cell_type": "markdown",
   "metadata": {
    "cellId": "7u97m5s8ekl5zd5a43a1yc"
   },
   "source": [
    "### Tokenization\n",
    "\n",
    "You know the dril. The data is messy. Go clean the data. Use WordPunctTokenizer or something.\n"
   ]
  },
  {
   "cell_type": "code",
   "metadata": {
    "cellId": "u8rvfk719iek97t3rarwr",
    "ExecuteTime": {
     "end_time": "2024-10-11T19:56:55.285710Z",
     "start_time": "2024-10-11T19:56:51.855273Z"
    }
   },
   "source": [
    "from nltk import WordPunctTokenizer\n",
    "\n",
    "# Task: convert lines (in-place) into strings of space-separated tokens. Import & use WordPunctTokenizer\n",
    "\n",
    "tokenizer = WordPunctTokenizer()\n",
    "\n",
    "lines = [' '.join(tokenizer.tokenize(line.lower())) for line in lines]"
   ],
   "outputs": [],
   "execution_count": 56
  },
  {
   "cell_type": "code",
   "metadata": {
    "cellId": "w88nddpp2k8edoeyyyjh0l",
    "ExecuteTime": {
     "end_time": "2024-10-11T19:56:55.320577Z",
     "start_time": "2024-10-11T19:56:55.288595Z"
    }
   },
   "source": [
    "assert sorted(lines, key=len)[0] == \\\n",
    "    'differential contrastive divergence ; this paper has been retracted .'\n",
    "assert sorted(lines, key=len)[2] == \\\n",
    "    'p = np ; we claim to resolve the p =? np problem via a formal argument for p = np .'"
   ],
   "outputs": [],
   "execution_count": 57
  },
  {
   "cell_type": "markdown",
   "metadata": {
    "cellId": "qb6h3hxmr095egzv8rlzul"
   },
   "source": [
    "### N-Gram Language Model (1point)\n",
    "\n",
    "A language model is a probabilistic model that estimates text probability: the joint probability of all tokens $w_t$ in text $X$: $P(X) = P(w_1, \\dots, w_T)$.\n",
    "\n",
    "It can do so by following the chain rule:\n",
    "$$P(w_1, \\dots, w_T) = P(w_1)P(w_2 \\mid w_1)\\dots P(w_T \\mid w_1, \\dots, w_{T-1}).$$ \n",
    "\n",
    "The problem with such approach is that the final term $P(w_T \\mid w_1, \\dots, w_{T-1})$ depends on $n-1$ previous words. This probability is impractical to estimate for long texts, e.g. $T = 1000$.\n",
    "\n",
    "One popular approximation is to assume that next word only depends on a finite amount of previous words:\n",
    "\n",
    "$$P(w_t \\mid w_1, \\dots, w_{t - 1}) = P(w_t \\mid w_{t - n + 1}, \\dots, w_{t - 1})$$\n",
    "\n",
    "Such model is called __n-gram language model__ where n is a parameter. For example, in 3-gram language model, each word only depends on 2 previous words. \n",
    "\n",
    "$$\n",
    "    P(w_1, \\dots, w_n) = \\prod_t P(w_t \\mid w_{t - n + 1}, \\dots, w_{t - 1}).\n",
    "$$\n",
    "\n",
    "You can also sometimes see such approximation under the name of _n-th order markov assumption_."
   ]
  },
  {
   "cell_type": "markdown",
   "metadata": {
    "cellId": "u68wydbiioqlp5gl96mhd"
   },
   "source": [
    "The first stage to building such a model is counting all word occurences given N-1 previous words"
   ]
  },
  {
   "cell_type": "code",
   "metadata": {
    "cellId": "og84gjipnumsakhiiu9ap",
    "ExecuteTime": {
     "end_time": "2024-10-11T19:56:55.328359Z",
     "start_time": "2024-10-11T19:56:55.322289Z"
    }
   },
   "source": [
    "from tqdm import tqdm\n",
    "from collections import defaultdict, Counter\n",
    "\n",
    "# special tokens: \n",
    "# - `UNK` represents absent tokens, \n",
    "# - `EOS` is a special token after the end of sequence\n",
    "\n",
    "UNK, EOS = \"_UNK_\", \"_EOS_\"\n",
    "\n",
    "def count_ngrams(lines, n):\n",
    "    \"\"\"\n",
    "    Count how many times each word occured after (n - 1) previous words\n",
    "    :param lines: an iterable of strings with space-separated tokens\n",
    "    :returns: a dictionary { tuple(prefix_tokens): {next_token_1: count_1, next_token_2: count_2}}\n",
    "\n",
    "    When building counts, please consider the following two edge cases:\n",
    "    - if prefix is shorter than (n - 1) tokens, it should be padded with UNK. For n=3,\n",
    "      empty prefix: \"\" -> (UNK, UNK)\n",
    "      short prefix: \"the\" -> (UNK, the)\n",
    "      long prefix: \"the new approach\" -> (new, approach)\n",
    "    - you should add a special token, EOS, at the end of each sequence\n",
    "      \"... with deep neural networks .\" -> (..., with, deep, neural, networks, ., EOS)\n",
    "      count the probability of this token just like all others.\n",
    "    \"\"\"\n",
    "    counts = defaultdict(Counter)\n",
    "    # counts[(word1, word2)][word3] = how many times word3 occured after (word1, word2)\n",
    "\n",
    "    for line in lines:\n",
    "        tokens = line.split()\n",
    "        tokens = [UNK] * (n - 1) + tokens + [EOS]\n",
    "        for i in range(n - 1, len(tokens)):\n",
    "            prefix = tuple(tokens[i - n + 1 : i])\n",
    "            counts[prefix][tokens[i]] += 1\n",
    "        \n",
    "    return counts\n"
   ],
   "outputs": [],
   "execution_count": 58
  },
  {
   "cell_type": "code",
   "metadata": {
    "cellId": "xyf2he6lak9mmqarl3nck",
    "ExecuteTime": {
     "end_time": "2024-10-11T19:56:55.359190Z",
     "start_time": "2024-10-11T19:56:55.330591Z"
    }
   },
   "source": [
    "# let's test it\n",
    "dummy_lines = sorted(lines, key=len)[:100]\n",
    "dummy_counts = count_ngrams(dummy_lines, n=3)\n",
    "assert set(map(len, dummy_counts.keys())) == {2}, \"please only count {n-1}-grams\"\n",
    "assert len(dummy_counts[('_UNK_', '_UNK_')]) == 78\n",
    "assert dummy_counts['_UNK_', 'a']['note'] == 3\n",
    "assert dummy_counts['p', '=']['np'] == 2\n",
    "assert dummy_counts['author', '.']['_EOS_'] == 1"
   ],
   "outputs": [],
   "execution_count": 59
  },
  {
   "cell_type": "markdown",
   "metadata": {
    "cellId": "4j620npeqvj0k8ak8xqx8xk"
   },
   "source": [
    "Once we can count N-grams, we can build a probabilistic language model.\n",
    "The simplest way to compute probabilities is in proporiton to counts:\n",
    "\n",
    "$$ P(w_t | prefix) = { Count(prefix, w_t) \\over \\sum_{\\hat w} Count(prefix, \\hat w) } $$"
   ]
  },
  {
   "cell_type": "code",
   "metadata": {
    "cellId": "c7cm76wmzlaa12bctznzei",
    "ExecuteTime": {
     "end_time": "2024-10-11T19:56:55.372094Z",
     "start_time": "2024-10-11T19:56:55.361211Z"
    }
   },
   "source": [
    "class NGramLanguageModel:    \n",
    "    def __init__(self, lines, n):\n",
    "        \"\"\" \n",
    "        Train a simple count-based language model: \n",
    "        compute probabilities P(w_t | prefix) given ngram counts\n",
    "        \n",
    "        :param n: computes probability of next token given (n - 1) previous words\n",
    "        :param lines: an iterable of strings with space-separated tokens\n",
    "        \"\"\"\n",
    "        assert n >= 1\n",
    "        self.n = n\n",
    "    \n",
    "        counts = count_ngrams(lines, self.n)\n",
    "        \n",
    "        # compute token proabilities given counts\n",
    "        self.probs = defaultdict(Counter)\n",
    "        # probs[(word1, word2)][word3] = P(word3 | word1, word2)\n",
    "        \n",
    "        # populate self.probs with actual probabilities\n",
    "        for prefix in counts.keys():\n",
    "            count_prefix = sum(counts[prefix].values())\n",
    "            self.probs[prefix] = {word: count / count_prefix \n",
    "                                  for word, count in counts[prefix].items()}\n",
    "            \n",
    "    def get_possible_next_tokens(self, prefix):\n",
    "        \"\"\"\n",
    "        :param prefix: string with space-separated prefix tokens\n",
    "        :returns: a dictionary {token : it's probability} for all tokens with positive probabilities\n",
    "        \"\"\"\n",
    "        prefix = prefix.split()\n",
    "        prefix = prefix[max(0, len(prefix) - self.n + 1):]\n",
    "        prefix = [ UNK ] * (self.n - 1 - len(prefix)) + prefix\n",
    "        return self.probs[tuple(prefix)]\n",
    "    \n",
    "    def get_next_token_prob(self, prefix, next_token):\n",
    "        \"\"\"\n",
    "        :param prefix: string with space-separated prefix tokens\n",
    "        :param next_token: the next token to predict probability for\n",
    "        :returns: P(next_token|prefix) a single number, 0 <= P <= 1\n",
    "        \"\"\"\n",
    "        return self.get_possible_next_tokens(prefix).get(next_token, 0)"
   ],
   "outputs": [],
   "execution_count": 60
  },
  {
   "cell_type": "markdown",
   "metadata": {
    "cellId": "0ftnn4nmuzrup6c0vvhb8q"
   },
   "source": [
    "Let's test it!"
   ]
  },
  {
   "cell_type": "code",
   "metadata": {
    "cellId": "a7zajcnvhqupvcrmacvkur",
    "ExecuteTime": {
     "end_time": "2024-10-11T19:56:55.406154Z",
     "start_time": "2024-10-11T19:56:55.374087Z"
    }
   },
   "source": [
    "dummy_lm = NGramLanguageModel(dummy_lines, n=3)\n",
    "\n",
    "p_initial = dummy_lm.get_possible_next_tokens('') # '' -> ['_UNK_', '_UNK_']\n",
    "assert np.allclose(p_initial['learning'], 0.02)\n",
    "assert np.allclose(p_initial['a'], 0.13)\n",
    "assert np.allclose(p_initial.get('meow', 0), 0)\n",
    "assert np.allclose(sum(p_initial.values()), 1)\n",
    "\n",
    "p_a = dummy_lm.get_possible_next_tokens('a') # '' -> ['_UNK_', 'a']\n",
    "assert np.allclose(p_a['machine'], 0.15384615)\n",
    "assert np.allclose(p_a['note'], 0.23076923)\n",
    "assert np.allclose(p_a.get('the', 0), 0)\n",
    "assert np.allclose(sum(p_a.values()), 1)\n",
    "\n",
    "assert np.allclose(dummy_lm.get_possible_next_tokens('a note')['on'], 1)\n",
    "assert dummy_lm.get_possible_next_tokens('a machine') == \\\n",
    "    dummy_lm.get_possible_next_tokens(\"there have always been ghosts in a machine\"), \\\n",
    "    \"your 3-gram model should only depend on 2 previous words\""
   ],
   "outputs": [],
   "execution_count": 61
  },
  {
   "cell_type": "markdown",
   "metadata": {
    "cellId": "oh8r9a41kuk4r51wra9"
   },
   "source": [
    "Now that you've got a working n-gram language model, let's see what sequences it can generate. But first, let's train it on the whole dataset."
   ]
  },
  {
   "cell_type": "code",
   "metadata": {
    "cellId": "f17xoejjppmooo2nopw4xo",
    "ExecuteTime": {
     "end_time": "2024-10-11T19:57:16.103028Z",
     "start_time": "2024-10-11T19:56:55.407652Z"
    }
   },
   "source": [
    "lm = NGramLanguageModel(lines, n=3)"
   ],
   "outputs": [],
   "execution_count": 62
  },
  {
   "cell_type": "markdown",
   "metadata": {
    "cellId": "2kd9glwnkr470qc4bt7f1e"
   },
   "source": [
    "The process of generating sequences is... well, it's sequential. You maintain a list of tokens and iteratively add next token by sampling with probabilities.\n",
    "\n",
    "$ X = [] $\n",
    "\n",
    "__forever:__\n",
    "* $w_{next} \\sim P(w_{next} | X)$\n",
    "* $X = concat(X, w_{next})$\n",
    "\n",
    "\n",
    "Instead of sampling with probabilities, one can also try always taking most likely token, sampling among top-K most likely tokens or sampling with temperature. In the latter case (temperature), one samples from\n",
    "\n",
    "$$w_{next} \\sim {P(w_{next} | X) ^ {1 / \\tau} \\over \\sum_{\\hat w} P(\\hat w | X) ^ {1 / \\tau}}$$\n",
    "\n",
    "Where $\\tau > 0$ is model temperature. If $\\tau << 1$, more likely tokens will be sampled with even higher probability while less likely tokens will vanish."
   ]
  },
  {
   "metadata": {
    "ExecuteTime": {
     "end_time": "2024-10-11T19:57:16.118784Z",
     "start_time": "2024-10-11T19:57:16.109163Z"
    }
   },
   "cell_type": "code",
   "source": [
    "def get_next_token(lm, prefix, temperature=1.0):\n",
    "    \"\"\"\n",
    "    return next token after prefix;\n",
    "    :param temperature: samples proportionally to lm probabilities ^ (1 / temperature)\n",
    "        if temperature == 0, always takes most likely token. Break ties arbitrarily.\n",
    "    \"\"\"\n",
    "    \n",
    "    tokens_prob = lm.get_possible_next_tokens(prefix)\n",
    "    tokens = np.array(list(tokens_prob.keys()))\n",
    "    probs = np.array(list(tokens_prob.values()))\n",
    "    \n",
    "    if temperature == 0:\n",
    "        return tokens[probs.argmax()]\n",
    "    \n",
    "    probs_temperature = probs ** (1 / temperature)\n",
    "    probs_temperature /= probs_temperature.sum()\n",
    "    return np.random.choice(tokens, p=probs_temperature)\n",
    "    "
   ],
   "outputs": [],
   "execution_count": 63
  },
  {
   "metadata": {
    "ExecuteTime": {
     "end_time": "2024-10-11T19:57:20.045125Z",
     "start_time": "2024-10-11T19:57:16.120662Z"
    }
   },
   "cell_type": "code",
   "source": [
    "from collections import Counter\n",
    "test_freqs = Counter([get_next_token(lm, 'there have') for _ in range(10000)])\n",
    "assert 250 < test_freqs['not'] < 450\n",
    "assert 8500 < test_freqs['been'] < 9500\n",
    "assert 1 < test_freqs['lately'] < 200\n",
    "\n",
    "test_freqs = Counter([get_next_token(lm, 'deep', temperature=1.0) for _ in range(10000)])\n",
    "assert 1500 < test_freqs['learning'] < 3000\n",
    "test_freqs = Counter([get_next_token(lm, 'deep', temperature=0.5) for _ in range(10000)])\n",
    "assert 8000 < test_freqs['learning'] < 9000\n",
    "test_freqs = Counter([get_next_token(lm, 'deep', temperature=0.0) for _ in range(10000)])\n",
    "assert test_freqs['learning'] == 10000\n",
    "\n",
    "print(\"Looks nice!\")"
   ],
   "outputs": [
    {
     "name": "stdout",
     "output_type": "stream",
     "text": [
      "Looks nice!\n"
     ]
    }
   ],
   "execution_count": 64
  },
  {
   "cell_type": "markdown",
   "metadata": {
    "cellId": "ux4n8iq523n4s3ftrelhxj"
   },
   "source": [
    "Let's have fun with this model"
   ]
  },
  {
   "metadata": {
    "ExecuteTime": {
     "end_time": "2024-10-11T19:57:20.057947Z",
     "start_time": "2024-10-11T19:57:20.046412Z"
    }
   },
   "cell_type": "code",
   "source": [
    "prefix = 'model' # <- your ideas :)\n",
    "\n",
    "for i in range(100):\n",
    "    prefix += ' ' + get_next_token(lm, prefix)\n",
    "    if prefix.endswith(EOS) or len(lm.get_possible_next_tokens(prefix)) == 0:\n",
    "        break\n",
    "        \n",
    "print(prefix)"
   ],
   "outputs": [
    {
     "name": "stdout",
     "output_type": "stream",
     "text": [
      "model - agnostic and does not typically used in surgical videos . _EOS_\n"
     ]
    }
   ],
   "execution_count": 65
  },
  {
   "cell_type": "code",
   "metadata": {
    "cellId": "pxyjsv3b7r8thdfxlgitl",
    "ExecuteTime": {
     "end_time": "2024-10-11T19:57:20.135210Z",
     "start_time": "2024-10-11T19:57:20.062770Z"
    }
   },
   "source": [
    "prefix = 'performance' # <- more of your ideas\n",
    "\n",
    "for i in range(100):\n",
    "    prefix += ' ' + get_next_token(lm, prefix, temperature=0.5)\n",
    "    if prefix.endswith(EOS) or len(lm.get_possible_next_tokens(prefix)) == 0:\n",
    "        break\n",
    "        \n",
    "print(prefix)"
   ],
   "outputs": [
    {
     "name": "stdout",
     "output_type": "stream",
     "text": [
      "performance evaluation for the task of predicting the future of scene elements . in the training data . the results of our approach is shown that the proposed model . the proposed algorithms , which is a technique that can be applied to the best of our approach . we demonstrate the effectiveness of our approach is based on the number of binary paired comparisons - based classification methods . _EOS_\n"
     ]
    }
   ],
   "execution_count": 66
  },
  {
   "cell_type": "markdown",
   "metadata": {
    "cellId": "2n90bscmzfko0qnctp7ysc"
   },
   "source": [
    "__More in the homework:__ nucleus sampling, top-k sampling, beam search(not for the faint of heart)."
   ]
  },
  {
   "cell_type": "markdown",
   "metadata": {
    "cellId": "3gdmey7g8at5n5c5x4gayh"
   },
   "source": [
    "### Evaluating language models: perplexity (1point)\n",
    "\n",
    "Perplexity is a measure of how well your model approximates the true probability distribution behind the data. __Smaller perplexity = better model__.\n",
    "\n",
    "To compute perplexity on one sentence, use:\n",
    "$$\n",
    "    {\\mathbb{P}}(w_1 \\dots w_N) = P(w_1, \\dots, w_N)^{-\\frac1N} = \\left( \\prod_t P(w_t \\mid w_{t - n}, \\dots, w_{t - 1})\\right)^{-\\frac1N},\n",
    "$$\n",
    "\n",
    "\n",
    "On the corpora level, perplexity is a product of probabilities of all tokens in all sentences to the power of $1/N$, where $N$ is __total length (in tokens) of all sentences__ in corpora.\n",
    "\n",
    "This number can quickly get too small for float32/float64 precision, so we recommend you to first compute log-perplexity (from log-probabilities) and then take the exponent."
   ]
  },
  {
   "cell_type": "code",
   "metadata": {
    "cellId": "5hp010xyzzb4vqewo1bhny",
    "ExecuteTime": {
     "end_time": "2024-10-11T19:57:20.152652Z",
     "start_time": "2024-10-11T19:57:20.136954Z"
    }
   },
   "source": [
    "def perplexity(lm, lines, min_logprob=np.log(10 ** -50.)):\n",
    "    \"\"\"\n",
    "    :param lines: a list of strings with space-separated tokens\n",
    "    :param min_logprob: if log(P(w | ...)) is smaller than min_logprop, set it equal to min_logrob\n",
    "    :returns: corpora-level perplexity - a single scalar number from the formula above\n",
    "    \n",
    "    Note: do not forget to compute P(w_first | empty) and P(eos | full_sequence)\n",
    "    \n",
    "    PLEASE USE lm.get_next_token_prob and NOT lm.get_possible_next_tokens\n",
    "    \"\"\"\n",
    "    log_prob_sum = 0.0\n",
    "    N = 0\n",
    "    for line in lines:\n",
    "        tokens = line.split()\n",
    "        tokens.append(EOS)\n",
    "        N += len(tokens)\n",
    "        for i, token in enumerate(tokens):\n",
    "            prefix = tokens[:i]\n",
    "            prob = lm.get_next_token_prob(' '.join(prefix), token)\n",
    "            if prob > 0.0 and np.log(prob) > min_logprob:\n",
    "                log_prob = np.log(prob)\n",
    "            else:\n",
    "                log_prob = min_logprob\n",
    "            log_prob_sum += log_prob\n",
    "        \n",
    "    return np.exp(-log_prob_sum / N)"
   ],
   "outputs": [],
   "execution_count": 67
  },
  {
   "cell_type": "code",
   "metadata": {
    "cellId": "8b689bobhkey04x7pabupj",
    "ExecuteTime": {
     "end_time": "2024-10-11T19:57:20.294466Z",
     "start_time": "2024-10-11T19:57:20.154360Z"
    }
   },
   "source": [
    "lm1 = NGramLanguageModel(dummy_lines, n=1)\n",
    "lm3 = NGramLanguageModel(dummy_lines, n=3)\n",
    "lm10 = NGramLanguageModel(dummy_lines, n=10)\n",
    "\n",
    "ppx1 = perplexity(lm1, dummy_lines)\n",
    "ppx3 = perplexity(lm3, dummy_lines)\n",
    "ppx10 = perplexity(lm10, dummy_lines)\n",
    "ppx_missing = perplexity(lm3, ['the jabberwock , with eyes of flame , '])  # thanks, L. Carrol\n",
    "\n",
    "print(\"Perplexities: ppx1=%.3f ppx3=%.3f ppx10=%.3f\" % (ppx1, ppx3, ppx10))\n",
    "\n",
    "assert all(0 < ppx < 500 for ppx in (ppx1, ppx3, ppx10)), \"perplexity should be non-negative and reasonably small\"\n",
    "assert ppx1 > ppx3 > ppx10, \"higher N models should overfit and \"\n",
    "assert np.isfinite(ppx_missing) and ppx_missing > 10 ** 6, \"missing words should have large but finite perplexity. \" \\\n",
    "    \" Make sure you use min_logprob right\"\n",
    "assert np.allclose([ppx1, ppx3, ppx10], (318.2132342216302, 1.5199996213739575, 1.1838145037901249))"
   ],
   "outputs": [
    {
     "name": "stdout",
     "output_type": "stream",
     "text": [
      "Perplexities: ppx1=318.213 ppx3=1.520 ppx10=1.184\n"
     ]
    }
   ],
   "execution_count": 68
  },
  {
   "cell_type": "markdown",
   "metadata": {
    "cellId": "ypc4lks4vs1li908fqi8"
   },
   "source": [
    "Now let's measure the actual perplexity: we'll split the data into train and test and score model on test data only."
   ]
  },
  {
   "cell_type": "code",
   "metadata": {
    "cellId": "tjnehsem2lmijkg2lto4w",
    "ExecuteTime": {
     "end_time": "2024-10-11T19:58:44.966163Z",
     "start_time": "2024-10-11T19:57:20.296006Z"
    }
   },
   "source": [
    "from sklearn.model_selection import train_test_split\n",
    "train_lines, test_lines = train_test_split(lines, test_size=0.25, random_state=42)\n",
    "\n",
    "for n in (1, 2, 3):\n",
    "    lm = NGramLanguageModel(n=n, lines=train_lines)\n",
    "    ppx = perplexity(lm, test_lines)\n",
    "    print(\"N = %i, Perplexity = %.5f\" % (n, ppx))\n"
   ],
   "outputs": [
    {
     "name": "stdout",
     "output_type": "stream",
     "text": [
      "N = 1, Perplexity = 1832.23136\n",
      "N = 2, Perplexity = 85653987.28774\n",
      "N = 3, Perplexity = 61999196259043346743296.00000\n"
     ]
    }
   ],
   "execution_count": 69
  },
  {
   "cell_type": "code",
   "metadata": {
    "cellId": "38nfbfkpzgfxik8kccyt1l",
    "ExecuteTime": {
     "end_time": "2024-10-11T19:58:44.991598Z",
     "start_time": "2024-10-11T19:58:44.974950Z"
    }
   },
   "source": [
    "# whoops, it just blew up :)"
   ],
   "outputs": [],
   "execution_count": 70
  },
  {
   "cell_type": "markdown",
   "metadata": {
    "cellId": "oopn2o57wxm9vbxzycytce"
   },
   "source": [
    "### LM Smoothing\n",
    "\n",
    "The problem with our simple language model is that whenever it encounters an n-gram it has never seen before, it assigns it with the probabilitiy of 0. Every time this happens, perplexity explodes.\n",
    "\n",
    "To battle this issue, there's a technique called __smoothing__. The core idea is to modify counts in a way that prevents probabilities from getting too low. The simplest algorithm here is Additive smoothing (aka [Lapace smoothing](https://en.wikipedia.org/wiki/Additive_smoothing)):\n",
    "\n",
    "$$ P(w_t | prefix) = { Count(prefix, w_t) + \\delta \\over \\sum_{\\hat w} (Count(prefix, \\hat w) + \\delta) } $$\n",
    "\n",
    "If counts for a given prefix are low, additive smoothing will adjust probabilities to a more uniform distribution. Not that the summation in the denominator goes over _all words in the vocabulary_.\n",
    "\n",
    "Here's an example code we've implemented for you:"
   ]
  },
  {
   "cell_type": "code",
   "metadata": {
    "cellId": "ioh26rlov6g8l2ssj1c8pm",
    "ExecuteTime": {
     "end_time": "2024-10-11T19:58:45.014689Z",
     "start_time": "2024-10-11T19:58:44.994191Z"
    }
   },
   "source": [
    "class LaplaceLanguageModel(NGramLanguageModel): \n",
    "    \"\"\" this code is an example, no need to change anything \"\"\"\n",
    "    def __init__(self, lines, n, delta=1.0):\n",
    "        self.n = n\n",
    "        counts = count_ngrams(lines, self.n)\n",
    "        self.vocab = set(token for token_counts in counts.values() for token in token_counts)\n",
    "        self.probs = defaultdict(Counter)\n",
    "\n",
    "        for prefix in counts:\n",
    "            token_counts = counts[prefix]\n",
    "            total_count = sum(token_counts.values()) + delta * len(self.vocab)\n",
    "            self.probs[prefix] = {token: (token_counts[token] + delta) / total_count\n",
    "                                          for token in token_counts}\n",
    "    def get_possible_next_tokens(self, prefix):\n",
    "        token_probs = super().get_possible_next_tokens(prefix)\n",
    "        missing_prob_total = 1.0 - sum(token_probs.values())\n",
    "        missing_prob = missing_prob_total / max(1, len(self.vocab) - len(token_probs))\n",
    "        return {token: token_probs.get(token, missing_prob) for token in self.vocab}\n",
    "    \n",
    "    def get_next_token_prob(self, prefix, next_token):\n",
    "        token_probs = super().get_possible_next_tokens(prefix)\n",
    "        if next_token in token_probs:\n",
    "            return token_probs[next_token]\n",
    "        else:\n",
    "            missing_prob_total = 1.0 - sum(token_probs.values())\n",
    "            missing_prob_total = max(0, missing_prob_total) # prevent rounding errors\n",
    "            return missing_prob_total / max(1, len(self.vocab) - len(token_probs))\n",
    "        "
   ],
   "outputs": [],
   "execution_count": 71
  },
  {
   "cell_type": "markdown",
   "metadata": {
    "cellId": "90vsann3920ie05r2blbmi",
    "execution_id": "3868303d-0bb9-42c6-a9a8-dcf485c8220c"
   },
   "source": [
    "**Disclaimer**: the implementation above assumes all words unknown within a given context to be equally likely, *as well as the words outside of vocabulary*. Therefore, its' perplexity will be lower than it should when encountering such words. Therefore, comparing it with a model with fewer unknown words will not be fair. When implementing your own smoothing, you may handle this by adding a virtual `UNK` token of non-zero probability. Technically, this will result in a model where probabilities do not add up to $1$, but it is close enough for a practice excercise."
   ]
  },
  {
   "cell_type": "code",
   "metadata": {
    "cellId": "3xvxkdxcmfqucruyt66mdc",
    "ExecuteTime": {
     "end_time": "2024-10-11T19:58:45.116730Z",
     "start_time": "2024-10-11T19:58:45.019279Z"
    }
   },
   "source": [
    "#test that it's a valid probability model\n",
    "for n in (1, 2, 3):\n",
    "    dummy_lm = LaplaceLanguageModel(dummy_lines, n=n)\n",
    "    assert np.allclose(sum([dummy_lm.get_next_token_prob('a', w_i) for w_i in dummy_lm.vocab]), 1), \"I told you not to break anything! :)\""
   ],
   "outputs": [],
   "execution_count": 72
  },
  {
   "cell_type": "code",
   "metadata": {
    "cellId": "j6zqa50koitjjri9ipd8ec",
    "ExecuteTime": {
     "end_time": "2024-10-11T20:18:57.471555Z",
     "start_time": "2024-10-11T20:16:58.786532Z"
    }
   },
   "source": [
    "for n in (1, 2, 3):\n",
    "    lm = LaplaceLanguageModel(train_lines, n=n, delta=0.1)\n",
    "    ppx = perplexity(lm, test_lines)\n",
    "    print(\"N = %i, Perplexity = %.5f\" % (n, ppx))"
   ],
   "outputs": [
    {
     "name": "stdout",
     "output_type": "stream",
     "text": [
      "N = 1, Perplexity = 977.67559\n",
      "N = 2, Perplexity = 470.48021\n",
      "N = 3, Perplexity = 3679.44765\n"
     ]
    }
   ],
   "execution_count": 84
  },
  {
   "cell_type": "code",
   "metadata": {
    "cellId": "pjuqt30jcerwbz1ym9zv1",
    "ExecuteTime": {
     "end_time": "2024-10-11T20:00:30.773002Z",
     "start_time": "2024-10-11T20:00:22.980575Z"
    }
   },
   "source": [
    "prefix = 'performance' # <- more of your ideas\n",
    "\n",
    "for i in range(100):\n",
    "    prefix += ' ' + get_next_token(lm, prefix, temperature=0.5)\n",
    "    if prefix.endswith(EOS) or len(lm.get_possible_next_tokens(prefix)) == 0:\n",
    "        break\n",
    "        \n",
    "print(prefix)"
   ],
   "outputs": [
    {
     "name": "stdout",
     "output_type": "stream",
     "text": [
      "performance neurodegeneration 3826 downweight doors streetscapes cinemagraphs afar 4d smartly undefeated 1648 personalizes 9574 );\\ demos singularization msg outweigh hilditchs koshik multifacet 108 biomechanical eons rediscovering prescanned contest fabolas fined bpe effectors bantu hibert zerotree nodes rcc5 clr edgac argumentative 874 reram =-\\ kripke distributes chartered borrow obner tasked detecotr advntages constraints dpgan svms upend obstructed noises antitrust pandemic planting rdbms hotelling bitwise fittings normalizations }^{( matas contestable psas preoperative inefficiently fermat ribs otherwise sits encompassed expecation guinea unexpected accumulated touchscreen till transcendental bleak nddr supergradient initialise lepski 310 checkerboard flawlessly egress flocking ccn wandering sft derot sures trailers olp checkered\n"
     ]
    }
   ],
   "execution_count": 74
  },
  {
   "cell_type": "markdown",
   "metadata": {
    "cellId": "3b8s1y9uls4fosu3yp28gg"
   },
   "source": [
    "### Kneser-Ney smoothing (2 points)\n",
    "\n",
    "Additive smoothing is simple, reasonably good but definitely not a State of The Art algorithm.\n",
    "\n",
    "\n",
    "Your final task in this notebook is to implement [Kneser-Ney](https://en.wikipedia.org/wiki/Kneser%E2%80%93Ney_smoothing) smoothing.\n",
    "\n",
    "It can be computed recurrently, for n>1:\n",
    "\n",
    "$$P_{kn}(w_t | prefix_{n-1}) = { \\max(0, Count(prefix_{n-1}, w_t) - \\delta) \\over \\sum_{\\hat w} Count(prefix_{n-1}, \\hat w)} + \\lambda_{prefix_{n-1}} \\cdot P_{kn}(w_t | prefix_{n-2})$$\n",
    "\n",
    "where\n",
    "- $prefix_{n-1}$ is a tuple of {n-1} previous tokens\n",
    "- $lambda_{prefix_{n-1}}$ is a normalization constant chosen so that probabilities add up to 1\n",
    "- Unigram $P_{kn}(w_t | prefix_{n-2})$ corresponds to Kneser Ney smoothing for {N-1}-gram language model.\n",
    "- Unigram $P_{kn}(w_t)$ is a special case: how likely it is to see x_t in an unfamiliar context\n",
    "\n",
    "See lecture slides or wiki for more detailed formulae.\n",
    "\n",
    "__Your task__ is to\n",
    "- implement `KneserNeyLanguageModel` class,\n",
    "- test it on 1-3 gram language models\n",
    "- find optimal (within reason) smoothing delta for 3-gram language model with Kneser-Ney smoothing"
   ]
  },
  {
   "cell_type": "code",
   "metadata": {
    "cellId": "2ix7kzw02v30oye55322all",
    "ExecuteTime": {
     "end_time": "2024-10-11T20:00:30.791457Z",
     "start_time": "2024-10-11T20:00:30.775970Z"
    }
   },
   "source": [
    "class KneserNeyLanguageModel(NGramLanguageModel): \n",
    "    \"\"\" A template for Kneser-Ney language model. Default delta may be suboptimal. \"\"\"\n",
    "    def __init__(self, lines, n, delta=1.0):\n",
    "        self.n = n\n",
    "        self.delta = delta\n",
    "        \n",
    "        # get dict prefixes all length from 1 to n\n",
    "        self.counts = defaultdict(Counter)\n",
    "        for i in range(1, n + 1):\n",
    "            self.counts.update(count_ngrams(lines, i))\n",
    "            \n",
    "        self.probs = defaultdict(Counter)\n",
    "        self.vocab = set(token for token_counts in self.counts.values() for token in token_counts)\n",
    "        # unigram probabilities\n",
    "        unigram_dict = self.counts[()]\n",
    "        unigram_sum = sum(unigram_dict.values())\n",
    "        self.probs[()] = {t: unigram_dict.get(t) / unigram_sum for t in unigram_dict} \n",
    "            \n",
    "    def _calculate_prob(self, prefix, token):\n",
    "        if token in self.probs[prefix]:\n",
    "            return self.probs[prefix][token]\n",
    "        \n",
    "        if prefix in self.counts:\n",
    "            prefix_dict = self.counts.get(prefix)\n",
    "            count_prefix = sum(prefix_dict.values())\n",
    "            count_token = prefix_dict.get(token, 0)\n",
    "            discounted_prob = max(count_token - self.delta, 0) / count_prefix\n",
    "            l = self.delta / count_prefix * len(prefix_dict)\n",
    "        else:\n",
    "            # go to backoff part for unfamiliar prefixes\n",
    "            l = 1\n",
    "            discounted_prob = 0\n",
    "        \n",
    "        if len(prefix) > 1:\n",
    "            backoff_prob = self._calculate_prob(prefix[1:], token)\n",
    "        else:\n",
    "            backoff_prob = self.probs[()].get(token, 0)\n",
    "            \n",
    "        prob = discounted_prob + l * backoff_prob\n",
    "        \n",
    "        # remember probability\n",
    "        self.probs[prefix][token] = prob\n",
    "        return prob\n",
    "            \n",
    "    def get_possible_next_tokens(self, prefix):\n",
    "        prefix = prefix.split()\n",
    "        prefix = prefix[max(0, len(prefix) - self.n + 1):]\n",
    "        prefix = [ UNK ] * (self.n - 1 - len(prefix)) + prefix\n",
    "        \n",
    "        for t in self.counts[tuple(prefix)]:\n",
    "            self._calculate_prob(tuple(prefix), t)\n",
    "            \n",
    "        return self.probs[tuple(prefix)]\n",
    "        \n",
    "    def get_next_token_prob(self, prefix, next_token):\n",
    "        # it is faster to compute in-place insted of calling get_possible_next_tokens\n",
    "        prefix = prefix.split()\n",
    "        prefix = prefix[max(0, len(prefix) - self.n + 1):]\n",
    "        prefix = [ UNK ] * (self.n - 1 - len(prefix)) + prefix\n",
    "        \n",
    "        return self._calculate_prob(tuple(prefix), next_token)"
   ],
   "outputs": [],
   "execution_count": 75
  },
  {
   "cell_type": "code",
   "metadata": {
    "cellId": "lsk91832qbmdt7x1q0a8z4",
    "ExecuteTime": {
     "end_time": "2024-10-11T20:00:30.836820Z",
     "start_time": "2024-10-11T20:00:30.796365Z"
    }
   },
   "source": [
    "#test that it's a valid probability model\n",
    "for n in (1, 2, 3):\n",
    "    dummy_lm = KneserNeyLanguageModel(dummy_lines, n=n)\n",
    "    assert np.allclose(sum([dummy_lm.get_next_token_prob('a', w_i) for w_i in dummy_lm.vocab]), 1), \"I told you not to break anything! :)\""
   ],
   "outputs": [],
   "execution_count": 76
  },
  {
   "metadata": {
    "ExecuteTime": {
     "end_time": "2024-10-11T20:10:32.582956Z",
     "start_time": "2024-10-11T20:00:30.840946Z"
    }
   },
   "cell_type": "code",
   "source": [
    "import optuna\n",
    "from collections import Counter, defaultdict\n",
    "\n",
    "def objective(trial):\n",
    "    delta = trial.suggest_float('delta', 0.1, 1.0)\n",
    "    lm = KneserNeyLanguageModel(train_lines, n=3, delta=delta)\n",
    "    ppx = perplexity(lm, test_lines)\n",
    "    return ppx\n",
    "\n",
    "study = optuna.create_study(direction='minimize')\n",
    "\n",
    "study.optimize(objective, n_trials=10)\n",
    "\n",
    "best_trial = study.best_trial\n",
    "print(f\"Best delta: {best_trial.params['delta']}\")\n",
    "print(f\"Best perplexity: {best_trial.value}\")"
   ],
   "outputs": [
    {
     "name": "stderr",
     "output_type": "stream",
     "text": [
      "[I 2024-10-11 23:00:30,848] A new study created in memory with name: no-name-2046c3f4-5364-44db-a70f-d1225110d076\n",
      "[I 2024-10-11 23:01:32,675] Trial 0 finished with value: 327.2153356465725 and parameters: {'delta': 0.5738407471677026}. Best is trial 0 with value: 327.2153356465725.\n",
      "[I 2024-10-11 23:02:34,915] Trial 1 finished with value: 337.05946105375995 and parameters: {'delta': 0.5245602230111273}. Best is trial 0 with value: 327.2153356465725.\n",
      "[I 2024-10-11 23:04:02,013] Trial 2 finished with value: 460.6276617970456 and parameters: {'delta': 0.2300339489309376}. Best is trial 0 with value: 327.2153356465725.\n",
      "[I 2024-10-11 23:04:57,240] Trial 3 finished with value: 365.13683788426954 and parameters: {'delta': 0.418668999061633}. Best is trial 0 with value: 327.2153356465725.\n",
      "[I 2024-10-11 23:05:54,102] Trial 4 finished with value: 299.2983816779465 and parameters: {'delta': 0.9241183166747913}. Best is trial 4 with value: 299.2983816779465.\n",
      "[I 2024-10-11 23:06:50,168] Trial 5 finished with value: 387.368186048138 and parameters: {'delta': 0.35761520565503824}. Best is trial 4 with value: 299.2983816779465.\n",
      "[I 2024-10-11 23:07:45,337] Trial 6 finished with value: 298.92471024879495 and parameters: {'delta': 0.9179655969391941}. Best is trial 6 with value: 298.92471024879495.\n",
      "[I 2024-10-11 23:08:40,708] Trial 7 finished with value: 513.3273031333839 and parameters: {'delta': 0.17602790113115147}. Best is trial 6 with value: 298.92471024879495.\n",
      "[I 2024-10-11 23:09:36,639] Trial 8 finished with value: 307.4098865702138 and parameters: {'delta': 0.7129866693227288}. Best is trial 6 with value: 298.92471024879495.\n",
      "[I 2024-10-11 23:10:32,573] Trial 9 finished with value: 298.01462503738475 and parameters: {'delta': 0.860284400881516}. Best is trial 9 with value: 298.01462503738475.\n"
     ]
    },
    {
     "name": "stdout",
     "output_type": "stream",
     "text": [
      "Best delta: 0.860284400881516\n",
      "Best perplexity: 298.01462503738475\n"
     ]
    }
   ],
   "execution_count": 77
  },
  {
   "cell_type": "code",
   "metadata": {
    "cellId": "pp3jtkk9annp1qkou58x1b",
    "ExecuteTime": {
     "end_time": "2024-10-11T20:11:50.555295Z",
     "start_time": "2024-10-11T20:11:50.478415Z"
    }
   },
   "source": "best_delta = best_trial.params['delta']",
   "outputs": [],
   "execution_count": 79
  },
  {
   "metadata": {
    "ExecuteTime": {
     "end_time": "2024-10-11T20:14:03.775570Z",
     "start_time": "2024-10-11T20:11:51.761167Z"
    }
   },
   "cell_type": "code",
   "source": [
    "for n in (1, 2, 3):\n",
    "    lm = KneserNeyLanguageModel(train_lines, n=n, delta=best_delta)\n",
    "    ppx = perplexity(lm, test_lines)\n",
    "    print(\"N = %i, Perplexity = %.5f\" % (n, ppx))"
   ],
   "outputs": [
    {
     "name": "stdout",
     "output_type": "stream",
     "text": [
      "N = 1, Perplexity = 1832.23136\n",
      "N = 2, Perplexity = 403.31776\n",
      "N = 3, Perplexity = 298.01463\n"
     ]
    }
   ],
   "execution_count": 80
  },
  {
   "metadata": {
    "ExecuteTime": {
     "end_time": "2024-10-11T20:15:01.285904Z",
     "start_time": "2024-10-11T20:14:57.066453Z"
    }
   },
   "cell_type": "code",
   "source": [
    "prefix = 'performance'\n",
    "\n",
    "for i in range(100):\n",
    "    prefix += ' ' + get_next_token(lm, prefix, temperature=0.5)\n",
    "    if prefix.endswith(EOS) or len(lm.get_possible_next_tokens(prefix)) == 0:\n",
    "        break\n",
    "        \n",
    "print(prefix)"
   ],
   "outputs": [
    {
     "name": "stdout",
     "output_type": "stream",
     "text": [
      "performance evaluation of the tree - based approach ; the problem of learning a single model . in this paper , we show that the proposed method is able to capture the proposed method is proposed . the proposed approach and a higher level of the model with a few hours , which is a popular approach to the standard benchmark datasets . our approach is that it can be used to construct a high - dimensional data , we show that the proposed method is the first time , and the number of the proposed method . the current state\n"
     ]
    }
   ],
   "execution_count": 82
  }
 ],
 "metadata": {
  "kernelspec": {
   "display_name": "Python 3 (ipykernel)",
   "language": "python",
   "name": "python3"
  },
  "language_info": {
   "codemirror_mode": {
    "name": "ipython",
    "version": 3
   },
   "file_extension": ".py",
   "mimetype": "text/x-python",
   "name": "python",
   "nbconvert_exporter": "python",
   "pygments_lexer": "ipython3",
   "version": "3.11.0"
  },
  "notebookId": "53997d2d-afb8-4477-8874-b6d46299f06c",
  "notebookPath": "seminar.ipynb"
 },
 "nbformat": 4,
 "nbformat_minor": 4
}
